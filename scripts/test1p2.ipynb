{
 "cells": [
  {
   "cell_type": "markdown",
   "metadata": {},
   "source": [
    "# Test 22 part 2\n",
    "\n",
    "Energy computations and various visualizations"
   ]
  },
  {
   "cell_type": "code",
   "execution_count": 2,
   "metadata": {},
   "outputs": [],
   "source": [
    "import os\n",
    "import sys\n",
    "\n",
    "import numpy as np\n",
    "import pandas as pd\n",
    "\n",
    "from tqdm import tqdm\n",
    "from IPython.display import clear_output\n",
    "\n",
    "import matplotlib as mpl \n",
    "#mpl.use('pgf')\n",
    "import matplotlib.pyplot as plt\n",
    "\n",
    "sys.path.insert(0, '../icenumerics/')\n",
    "import icenumerics as ice\n",
    "\n",
    "import auxiliary as aux\n",
    "import montecarlo_tools as mc\n",
    "import chirality_tools as chir\n",
    "ureg = ice.ureg\n",
    "\n",
    "%reload_ext autoreload\n",
    "%autoreload 2\n",
    "\n",
    "idx = pd.IndexSlice"
   ]
  },
  {
   "cell_type": "code",
   "execution_count": 3,
   "metadata": {},
   "outputs": [],
   "source": [
    "plt.rcParams.update({\n",
    "    \"pgf.texsystem\": \"pdflatex\",\n",
    "    'font.family': 'serif',\n",
    "    'text.usetex': True,\n",
    "    'pgf.rcfonts': False,\n",
    "})"
   ]
  },
  {
   "cell_type": "markdown",
   "metadata": {},
   "source": [
    "# Parameters"
   ]
  },
  {
   "cell_type": "code",
   "execution_count": 4,
   "metadata": {},
   "outputs": [],
   "source": [
    "quench_time = 300*ureg.s\n",
    "evolution_time = 60*ureg.s\n",
    "total_time = quench_time + evolution_time\n",
    "data_path = \"../data/test23/\"\n",
    "runs = 10\n",
    "\n",
    "params = {\n",
    "    \"particle_radius\":1.4*ureg.um,\n",
    "    \"particle_susceptibility\":0.4,\n",
    "    \"particle_diffusion\":0.14*ureg.um**2/ureg.s,\n",
    "    \"particle_temperature\":300*ureg.K,\n",
    "    \"particle_density\":1000*ureg.kg/ureg.m**3,\n",
    "\n",
    "    \"trap_sep\":3*ureg.um,\n",
    "    \"trap_height\":8*ureg.pN*ureg.nm,\n",
    "    \"trap_stiffness\":100e-3*ureg.pN/ureg.nm,\n",
    "    \"height_spread\":0,\n",
    "    \"susceptibility_spread\":0,\n",
    "    \"isperiodic\":True,\n",
    "\n",
    "    \"total_time\":total_time,\n",
    "    \"framespersec\":20*ureg.Hz,\n",
    "    \"dt\":0.1*ureg.ms,\n",
    "    \"max_field\":10*ureg.mT,\n",
    "    \"sim_temp\":300*ureg.K,\n",
    "    \"sim_dipole_cutoff\":40*ureg.um,\n",
    "}\n",
    "\n",
    "params[\"lattice_constant\"] = params[\"trap_sep\"]+(2*params[\"particle_radius\"]+1*ureg.um)*np.sqrt(2)\n",
    "\n",
    "params['mu0'] = (4*np.pi)*1e-7 * ureg.H/ureg.m\n",
    "params['m'] = np.pi * (2*params['particle_radius'])**3 *params['particle_susceptibility']*params['max_field']/6/params['mu0']\n",
    "params['kb'] = 1.380649e-23 * ureg.J / ureg.K\n",
    "params['kbT'] = (params['kb'] * params['sim_temp']).to(ureg.nm * ureg.pN)"
   ]
  },
  {
   "cell_type": "markdown",
   "metadata": {},
   "source": [
    "# Constructing AF2 states\n",
    "\n",
    "Here the goal is to make several AF2 states for many sizes"
   ]
  },
  {
   "cell_type": "code",
   "execution_count": 88,
   "metadata": {},
   "outputs": [],
   "source": [
    "def save_af2(N):\n",
    "    a = params[\"lattice_constant\"]\n",
    "    sp = ice.spins()\n",
    "    sp.create_lattice(\"square\",[N,N],lattice_constant=a, border=\"periodic\")\n",
    "\n",
    "    particle = ice.particle(radius = params[\"particle_radius\"],\n",
    "                susceptibility = params[\"particle_susceptibility\"],\n",
    "                diffusion = params[\"particle_diffusion\"],\n",
    "                temperature = params[\"particle_temperature\"],\n",
    "                density = params[\"particle_density\"])\n",
    "\n",
    "    trap = ice.trap(trap_sep = params[\"trap_sep\"],\n",
    "                height = params[\"trap_height\"],\n",
    "                stiffness = params[\"trap_stiffness\"])\n",
    "\n",
    "    col = ice.colloidal_ice(sp, particle, trap,\n",
    "                            height_spread = params[\"height_spread\"], \n",
    "                            susceptibility_spread = params[\"susceptibility_spread\"],\n",
    "                            periodic = params[\"isperiodic\"])\n",
    "\n",
    "            \n",
    "    col.region = np.array([[0,0,-3*(params[\"particle_radius\"]/a/N).magnitude],[1,1,3*(params[\"particle_radius\"]/a/N).magnitude]])*N*a\n",
    "        \n",
    "    params['particle'] = particle\n",
    "    params['trap'] = trap\n",
    "\n",
    "    col1 = col.copy(deep=True)\n",
    "    \n",
    "    pps = int(N**2)\n",
    "    \n",
    "    flipsv = [pps + k + n for k in range(0,pps,N) for n in range(0,N,2)]\n",
    "    flipsh = [0 + k + n for k in range(0,pps,N) for n in range(1,N,2)]\n",
    "    flipsh2 = [0 + k + n for k in range(0,pps,N*2) for n in range(0,N,1)]\n",
    "    flips = flipsv + flipsh + flipsh2\n",
    "    col1 = mc.flip_colloids(col1, indices=flips)\n",
    "\n",
    "    col1.to_ctrj().to_csv(os.path.join(data_path,'af2',f'{N}.csv'))\n"
   ]
  },
  {
   "cell_type": "code",
   "execution_count": null,
   "metadata": {},
   "outputs": [],
   "source": [
    "for size in tqdm(range(10,31)):\n",
    "    save_af2(size)"
   ]
  },
  {
   "cell_type": "markdown",
   "metadata": {},
   "source": [
    "# AF4\n",
    "\n",
    "I will prepare all AF4 states from the AF2 with a number of flips"
   ]
  },
  {
   "cell_type": "code",
   "execution_count": null,
   "metadata": {},
   "outputs": [],
   "source": [
    "\n",
    "for size in tqdm(range(10,31)):\n",
    "    \n",
    "    # Importing the file\n",
    "    ctrj = pd.read_csv(os.path.join(data_path,'af2',f'{size}.csv'), index_col=0)\n",
    "    \n",
    "    # Declaring some variables\n",
    "    particle = ice.particle(\n",
    "        radius = params['particle_radius'],\n",
    "        susceptibility = params['particle_susceptibility'],\n",
    "        diffusion = params[\"particle_diffusion\"],\n",
    "        temperature = params[\"particle_temperature\"],\n",
    "        density = params[\"particle_density\"]\n",
    "    )\n",
    "    \n",
    "    trap = ice.trap(\n",
    "        trap_sep = params[\"trap_sep\"], \n",
    "        height = params[\"trap_height\"],\n",
    "        stiffness = params[\"trap_stiffness\"]\n",
    "    )\n",
    "    \n",
    "    params['particle'] = particle\n",
    "    params['trap'] = trap\n",
    "\n",
    "    col = aux.get_colloids_from_ctrj2(ctrj,params)\n",
    "    \n",
    "    col1 = col.copy(deep=True)\n",
    "    \n",
    "    pps = int(size**2)\n",
    "    flips = [i+j for i in range(pps+size,2*pps,2*size) for j in range(size)]\n",
    "    col1 = mc.flip_colloids(col1,indices=flips)\n",
    "    \n",
    "    col1.to_ctrj().to_csv(os.path.join(data_path,'af4',f'{size}.csv'))\n",
    "    "
   ]
  },
  {
   "cell_type": "markdown",
   "metadata": {},
   "source": [
    "## Sanity check"
   ]
  },
  {
   "cell_type": "code",
   "execution_count": null,
   "metadata": {},
   "outputs": [],
   "source": [
    "N = 11\n",
    "params['size'] = N\n",
    "ctrj = pd.read_csv(os.path.join(data_path,'af4',f'{N}.csv'), index_col= 0)\n",
    "col = aux.get_colloids_from_ctrj2(ctrj,params)\n",
    "\n",
    "v = ice.vertices()\n",
    "v = v.colloids_to_vertices(col)\n",
    "\n",
    "fig, ax = plt.subplots(figsize=(10,10))\n",
    "col.display(ax)\n",
    "v.display(ax,dpl_scale=0.5,dpl_width=2.5,circle_scale=0.5)\n",
    "plt.show()\n"
   ]
  },
  {
   "cell_type": "markdown",
   "metadata": {},
   "source": [
    "# Disordered state"
   ]
  },
  {
   "cell_type": "markdown",
   "metadata": {},
   "source": [
    "Now I want to compute the energy of all obtained disordered states"
   ]
  },
  {
   "cell_type": "code",
   "execution_count": 128,
   "metadata": {},
   "outputs": [],
   "source": [
    "def transform_energy(E,E4):\n",
    "    return 1+ E/np.abs(E4)"
   ]
  },
  {
   "cell_type": "code",
   "execution_count": 104,
   "metadata": {},
   "outputs": [],
   "source": [
    "def get_energy_at_realization(params,data_path,size,realization):\n",
    "    \n",
    "    params['size'] = size\n",
    "    \n",
    "    trj = pd.read_csv(os.path.join(data_path,str(size),'trj',f'trj{realization}.csv'), index_col=[0,1])\n",
    "    last_frame = trj.index.get_level_values('frame').unique()[-1]\n",
    "    particles = aux.get_coordinates_at_frame(trj,last_frame)\n",
    "    dis_energy = aux.calculate_energy(params,particles)\n",
    "    return dis_energy\n",
    "    \n"
   ]
  },
  {
   "cell_type": "code",
   "execution_count": null,
   "metadata": {},
   "outputs": [],
   "source": [
    "sim_path = '../data/test22'\n",
    "\n",
    "energies = []\n",
    "for size in tqdm(range(10,20,1)):\n",
    "    cure = [get_energy_at_realization(params,sim_path,size,i) for i in range(1,5+1)]\n",
    "    energies.append(cure)\n",
    "    clear_output(wait=True)\n",
    "energies"
   ]
  },
  {
   "cell_type": "code",
   "execution_count": 114,
   "metadata": {},
   "outputs": [],
   "source": [
    "headers = [f'r{i}' for i in range(1,5+1)]\n",
    "df = pd.DataFrame(data=energies, columns=headers)\n",
    "df['size'] = list(range(10,20))\n",
    "df.to_csv(os.path.join(data_path,'energies.csv'))"
   ]
  },
  {
   "cell_type": "code",
   "execution_count": null,
   "metadata": {},
   "outputs": [],
   "source": [
    "gses = []\n",
    "for size in tqdm(range(10,20)):\n",
    "    params['size'] = size\n",
    "    ctrj_sel = pd.read_csv(os.path.join(data_path,'af4',f'{size}.csv'), index_col= 0)\n",
    "    gse = aux.calculate_energy(params, aux.get_positions_from_ctrj(ctrj_sel) )\n",
    "    gses.append(gse)\n",
    "\n",
    "gse"
   ]
  },
  {
   "cell_type": "code",
   "execution_count": 169,
   "metadata": {},
   "outputs": [],
   "source": [
    "df['gs'] = gses\n",
    "df.to_csv(os.path.join(data_path,'energies.csv'))"
   ]
  },
  {
   "cell_type": "code",
   "execution_count": 172,
   "metadata": {},
   "outputs": [],
   "source": [
    "z = []\n",
    "\n",
    "for i,row in df.iterrows():\n",
    "   zsel = [transform_energy(row[f'r{k}'], row['gs']) for k in range(1,5+1) ]\n",
    "   z.append(zsel)\n"
   ]
  },
  {
   "cell_type": "code",
   "execution_count": null,
   "metadata": {},
   "outputs": [],
   "source": [
    "dfz = pd.DataFrame(data=z,columns=headers)\n",
    "dfz.to_csv(os.path.join(data_path,'zs.csv'))\n",
    "dfz"
   ]
  },
  {
   "cell_type": "code",
   "execution_count": 180,
   "metadata": {},
   "outputs": [],
   "source": [
    "sizes = list(range(10,20))\n",
    "z_mean = dfz.mean(axis=1).to_numpy()\n",
    "z_std = dfz.std(axis=1).to_numpy()"
   ]
  },
  {
   "cell_type": "code",
   "execution_count": null,
   "metadata": {},
   "outputs": [],
   "source": [
    "fig,ax = plt.subplots(figsize=(10,5))\n",
    "#ax.scatter(sizes,z_mean)\n",
    "ax.set_ylim((0,0.1))\n",
    "ax.set_xlim((9,20))\n",
    "ax.errorbar(sizes,z_mean,fmt='o',yerr=z_std,barsabove=True)\n",
    "\n",
    "\n",
    "ax.set_xlabel('$n$')\n",
    "ax.set_ylabel('$z$')\n",
    "\n",
    "\n",
    "plt.show()"
   ]
  },
  {
   "cell_type": "markdown",
   "metadata": {},
   "source": [
    "## Some other energy visualizations"
   ]
  },
  {
   "cell_type": "code",
   "execution_count": 42,
   "metadata": {},
   "outputs": [],
   "source": [
    "def transformation(E,E4,N,kbT):\n",
    "    return (E - E4)/(N*kbT)"
   ]
  },
  {
   "cell_type": "code",
   "execution_count": null,
   "metadata": {},
   "outputs": [],
   "source": [
    "energies = pd.read_csv(os.path.join(data_path,'energies.csv'), index_col= 0)\n",
    "energies"
   ]
  },
  {
   "cell_type": "markdown",
   "metadata": {},
   "source": [
    "Getting the AF2 energy"
   ]
  },
  {
   "cell_type": "code",
   "execution_count": null,
   "metadata": {},
   "outputs": [],
   "source": [
    "af2s = []\n",
    "for size in tqdm(range(10,20)):\n",
    "    params['size'] = size\n",
    "    ctrj_sel = pd.read_csv(os.path.join(data_path,'af2',f'{size}.csv'), index_col= 0)\n",
    "    gse = aux.calculate_energy(params, aux.get_positions_from_ctrj(ctrj_sel) )\n",
    "    af2s.append(gse)\n",
    "\n",
    "af2s"
   ]
  },
  {
   "cell_type": "code",
   "execution_count": 64,
   "metadata": {},
   "outputs": [],
   "source": [
    "eta = []\n",
    "\n",
    "for i,row in energies.iterrows():\n",
    "   zsel = [transformation(row[f'r{k}'], row['gs'], row['size']**2,params['kbT'].magnitude) for k in range(1,5+1) ]\n",
    "   eta.append(zsel)\n"
   ]
  },
  {
   "cell_type": "code",
   "execution_count": null,
   "metadata": {},
   "outputs": [],
   "source": [
    "af2cul = [transformation(e,gs,n**2,params['kbT'].magnitude) for n,gs,e, in zip(energies['size'],energies['gs'],af2s)]\n",
    "af2cul"
   ]
  },
  {
   "cell_type": "code",
   "execution_count": null,
   "metadata": {},
   "outputs": [],
   "source": [
    "etadf = pd.DataFrame(data = eta, columns = [f'r{i}' for i in range(1,6)])\n",
    "etadf"
   ]
  },
  {
   "cell_type": "code",
   "execution_count": 66,
   "metadata": {},
   "outputs": [],
   "source": [
    "sizes = list(range(10,20))\n",
    "eta_mean = etadf.mean(axis = 1).to_list()\n",
    "eta_std = etadf.std(axis = 1).to_list()"
   ]
  },
  {
   "cell_type": "code",
   "execution_count": null,
   "metadata": {},
   "outputs": [],
   "source": [
    "fig,ax = plt.subplots(figsize=(10,5))\n",
    "#ax.scatter(sizes,z_mean)\n",
    "ax.set_ylim((0,120))\n",
    "ax.set_xlim((9,20))\n",
    "ax.errorbar(sizes,eta_mean,fmt='o',yerr=eta_std,barsabove=True)\n",
    "\n",
    "ax.scatter(sizes,af2cul, c='red')\n",
    "\n",
    "ax.legend(['AF2','Disoredered'], loc='lower right')\n",
    "\n",
    "ax.set_xlabel('$n$')\n",
    "ax.set_ylabel('$(E - E_{GS})/(Nk_bT)$')\n",
    "\n",
    "plt.show()"
   ]
  },
  {
   "cell_type": "markdown",
   "metadata": {},
   "source": [
    "# Frame visualizations"
   ]
  },
  {
   "cell_type": "code",
   "execution_count": 21,
   "metadata": {},
   "outputs": [],
   "source": [
    "vis_path = '../data/test22'"
   ]
  },
  {
   "cell_type": "code",
   "execution_count": 22,
   "metadata": {},
   "outputs": [],
   "source": [
    "params,ctrj,v,last_frame = aux.get_ctrj_and_vertices_from_file(params,vis_path,10,realization=1)"
   ]
  },
  {
   "cell_type": "code",
   "execution_count": 7,
   "metadata": {},
   "outputs": [],
   "source": [
    "N = 10\n",
    "params['size'] = N\n",
    "ctrj = pd.read_csv(os.path.join(vis_path,str(N),'ctrj','ctrj1.csv'),index_col=[0,1])\n",
    "vrt = pd.read_csv(os.path.join(vis_path,str(N),'vertices','vertices1.csv'),index_col=[0,1])\n",
    "last_frame = vrt.index.get_level_values('frame').unique()[-1]\n",
    "\n",
    "\n",
    "v = ice.vertices()\n",
    "v.vertices = vrt"
   ]
  },
  {
   "cell_type": "code",
   "execution_count": null,
   "metadata": {},
   "outputs": [],
   "source": [
    "fig, axes = plt.subplots(2,2,figsize=(20,20))\n",
    "\n",
    "ax = axes[0][0]\n",
    "\n",
    "params,ctrj,v,last_frame = aux.get_ctrj_and_vertices_from_file(params,vis_path,10,realization=1)\n",
    "region_limit = params['size']*params['lattice_constant'].magnitude\n",
    "N = params['size']\n",
    "ax.set_title(f'$n={N}$',fontsize=20)\n",
    "\n",
    "ice.draw_frame((aux.dropvis(ctrj)), frame_no=last_frame,\n",
    "               region=[0,region_limit,0,region_limit],\n",
    "               radius=params[\"particle_radius\"].magnitude,\n",
    "               cutoff=params[\"trap_sep\"].magnitude/2,\n",
    "               particle_color='#75b7ea',\n",
    "               trap_color='gray',\n",
    "               ax = ax)\n",
    "v.display(ax,dpl_scale=0.5,dpl_width=2.5,circle_scale=0.5)\n",
    "\n",
    "\n",
    "ax = axes[0][1]\n",
    "\n",
    "params,ctrj,v,last_frame = aux.get_ctrj_and_vertices_from_file(params,vis_path,15,realization=1)\n",
    "region_limit = params['size']*params['lattice_constant'].magnitude\n",
    "N = params['size']\n",
    "ax.set_title(f'$n={N}$',fontsize=20)\n",
    "\n",
    "ice.draw_frame((aux.dropvis(ctrj)), frame_no=last_frame,\n",
    "               region=[0,region_limit,0,region_limit],\n",
    "               radius=params[\"particle_radius\"].magnitude,\n",
    "               cutoff=params[\"trap_sep\"].magnitude/2,\n",
    "               particle_color='#75b7ea',\n",
    "               trap_color='gray',\n",
    "               ax = ax)\n",
    "v.display(ax,dpl_scale=0.5,dpl_width=2.5,circle_scale=0.5)\n",
    "\n",
    "ax = axes[1][0]\n",
    "\n",
    "params,ctrj,v,last_frame = aux.get_ctrj_and_vertices_from_file(params,vis_path,20,realization=1)\n",
    "region_limit = params['size']*params['lattice_constant'].magnitude\n",
    "N = params['size']\n",
    "ax.set_title(f'$n={N}$',fontsize=20)\n",
    "\n",
    "ice.draw_frame((aux.dropvis(ctrj)), frame_no=last_frame,\n",
    "               region=[0,region_limit,0,region_limit],\n",
    "               radius=params[\"particle_radius\"].magnitude,\n",
    "               cutoff=params[\"trap_sep\"].magnitude/2,\n",
    "               particle_color='#75b7ea',\n",
    "               trap_color='gray',\n",
    "               ax = ax)\n",
    "v.display(ax,dpl_scale=0.5,dpl_width=2.5,circle_scale=0.5)\n",
    "\n",
    "\n",
    "ax = axes[1][1]\n",
    "\n",
    "params,ctrj,v,last_frame = aux.get_ctrj_and_vertices_from_file(params,vis_path,30,realization=1)\n",
    "region_limit = params['size']*params['lattice_constant'].magnitude\n",
    "N = params['size']\n",
    "ax.set_title(f'$n={N}$',fontsize=20)\n",
    "\n",
    "ice.draw_frame((aux.dropvis(ctrj)), frame_no=last_frame,\n",
    "               region=[0,region_limit,0,region_limit],\n",
    "               radius=params[\"particle_radius\"].magnitude,\n",
    "               cutoff=params[\"trap_sep\"].magnitude/2,\n",
    "               particle_color='#75b7ea',\n",
    "               trap_color='gray',\n",
    "               ax = ax)\n",
    "v.display(ax,dpl_scale=0.5,dpl_width=2.5,circle_scale=0.5)\n",
    "\n",
    "plt.show()"
   ]
  },
  {
   "cell_type": "code",
   "execution_count": 37,
   "metadata": {},
   "outputs": [],
   "source": [
    "fig.savefig(os.path.join(data_path,'foursizes.png'),dpi=300,bbox_inches='tight')\n",
    "fig.savefig(os.path.join(data_path,'foursizes.pdf'),bbox_inches='tight')"
   ]
  },
  {
   "cell_type": "code",
   "execution_count": null,
   "metadata": {},
   "outputs": [],
   "source": [
    "fig, axes = plt.subplots(2,2,figsize=(20,20))\n",
    "\n",
    "ax = axes[0][0]\n",
    "\n",
    "params,ctrj,v,last_frame = aux.get_ctrj_and_vertices_from_file(params,vis_path,10,realization=1)\n",
    "region_limit = params['size']*params['lattice_constant'].magnitude\n",
    "N = params['size']\n",
    "ax.set_title(f'$n={N}$',fontsize=20)\n",
    "\n",
    "ice.draw_frame((aux.dropvis(ctrj)), frame_no=last_frame,\n",
    "               region=[0,region_limit,0,region_limit],\n",
    "               radius=params[\"particle_radius\"].magnitude,\n",
    "               cutoff=params[\"trap_sep\"].magnitude/2,\n",
    "               particle_color='#75b7ea',\n",
    "               trap_color='gray',\n",
    "               ax = ax)\n",
    "v.display_afgroup(ax,dpl_scale=0.5,dpl_width=2.5,circle_scale=0.5)\n",
    "\n",
    "\n",
    "ax = axes[0][1]\n",
    "\n",
    "params,ctrj,v,last_frame = aux.get_ctrj_and_vertices_from_file(params,vis_path,15,realization=1)\n",
    "region_limit = params['size']*params['lattice_constant'].magnitude\n",
    "N = params['size']\n",
    "ax.set_title(f'$n={N}$',fontsize=20)\n",
    "\n",
    "ice.draw_frame((aux.dropvis(ctrj)), frame_no=last_frame,\n",
    "               region=[0,region_limit,0,region_limit],\n",
    "               radius=params[\"particle_radius\"].magnitude,\n",
    "               cutoff=params[\"trap_sep\"].magnitude/2,\n",
    "               particle_color='#75b7ea',\n",
    "               trap_color='gray',\n",
    "               ax = ax)\n",
    "v.display_afgroup(ax,dpl_scale=0.5,dpl_width=2.5,circle_scale=0.5)\n",
    "\n",
    "ax = axes[1][0]\n",
    "\n",
    "params,ctrj,v,last_frame = aux.get_ctrj_and_vertices_from_file(params,vis_path,20,realization=1)\n",
    "region_limit = params['size']*params['lattice_constant'].magnitude\n",
    "N = params['size']\n",
    "ax.set_title(f'$n={N}$',fontsize=20)\n",
    "\n",
    "ice.draw_frame((aux.dropvis(ctrj)), frame_no=last_frame,\n",
    "               region=[0,region_limit,0,region_limit],\n",
    "               radius=params[\"particle_radius\"].magnitude,\n",
    "               cutoff=params[\"trap_sep\"].magnitude/2,\n",
    "               particle_color='#75b7ea',\n",
    "               trap_color='gray',\n",
    "               ax = ax)\n",
    "v.display_afgroup(ax,dpl_scale=0.5,dpl_width=2.5,circle_scale=0.5)\n",
    "\n",
    "\n",
    "ax = axes[1][1]\n",
    "\n",
    "params,ctrj,v,last_frame = aux.get_ctrj_and_vertices_from_file(params,vis_path,30,realization=1)\n",
    "region_limit = params['size']*params['lattice_constant'].magnitude\n",
    "N = params['size']\n",
    "ax.set_title(f'$n={N}$',fontsize=20)\n",
    "\n",
    "ice.draw_frame((aux.dropvis(ctrj)), frame_no=last_frame,\n",
    "               region=[0,region_limit,0,region_limit],\n",
    "               radius=params[\"particle_radius\"].magnitude,\n",
    "               cutoff=params[\"trap_sep\"].magnitude/2,\n",
    "               particle_color='#75b7ea',\n",
    "               trap_color='gray',\n",
    "               ax = ax)\n",
    "v.display_afgroup(ax,dpl_scale=0.5,dpl_width=2.5,circle_scale=0.5)\n",
    "\n",
    "plt.show()"
   ]
  },
  {
   "cell_type": "code",
   "execution_count": 39,
   "metadata": {},
   "outputs": [],
   "source": [
    "fig.savefig(os.path.join(data_path,'foursizes_group.png'),dpi=300,bbox_inches='tight')\n",
    "fig.savefig(os.path.join(data_path,'foursizes_group.pdf'),bbox_inches='tight')"
   ]
  }
 ],
 "metadata": {
  "kernelspec": {
   "display_name": "Python 3",
   "language": "python",
   "name": "python3"
  },
  "language_info": {
   "codemirror_mode": {
    "name": "ipython",
    "version": 3
   },
   "file_extension": ".py",
   "mimetype": "text/x-python",
   "name": "python",
   "nbconvert_exporter": "python",
   "pygments_lexer": "ipython3",
   "version": "3.8.10"
  }
 },
 "nbformat": 4,
 "nbformat_minor": 2
}
