{
 "cells": [
  {
   "cell_type": "markdown",
   "metadata": {},
   "source": [
    "# Test 22\n",
    "\n",
    "This notebook is intended to be ran on Servando's PC\n",
    "\n",
    "Here the idea is to simulate different $n\\times n$ sizes for different $n$"
   ]
  },
  {
   "cell_type": "code",
   "execution_count": 2,
   "metadata": {},
   "outputs": [],
   "source": [
    "import os\n",
    "import sys\n",
    "\n",
    "import numpy as np\n",
    "import pandas as pd\n",
    "\n",
    "from tqdm import tqdm\n",
    "from IPython.display import clear_output\n",
    "\n",
    "import matplotlib as mpl \n",
    "#mpl.use('pgf')\n",
    "import matplotlib.pyplot as plt\n",
    "\n",
    "sys.path.insert(0, '../../icenumerics/')\n",
    "import icenumerics as ice\n",
    "\n",
    "import auxiliary as aux\n",
    "import montecarlo_tools as mc\n",
    "import chirality_tools as chir\n",
    "ureg = ice.ureg\n",
    "\n",
    "%reload_ext autoreload\n",
    "%autoreload 2\n",
    "\n",
    "idx = pd.IndexSlice"
   ]
  },
  {
   "cell_type": "code",
   "execution_count": 3,
   "metadata": {},
   "outputs": [],
   "source": [
    "plt.rcParams.update({\n",
    "    \"pgf.texsystem\": \"pdflatex\",\n",
    "    'font.family': 'serif',\n",
    "    'text.usetex': True,\n",
    "    'pgf.rcfonts': False,\n",
    "})"
   ]
  },
  {
   "cell_type": "code",
   "execution_count": 4,
   "metadata": {},
   "outputs": [],
   "source": [
    "quench_time = 30*ureg.s\n",
    "evolution_time = 0*ureg.s\n",
    "total_time = quench_time + evolution_time\n",
    "#data_path = \"/mnt/e/rotBField/data/test22\"\n",
    "data_path = \"../data/test22\"\n",
    "\n",
    "params = {\n",
    "    \"particle_radius\":1.4*ureg.um,\n",
    "    \"particle_susceptibility\":0.4,\n",
    "    \"particle_diffusion\":0.14*ureg.um**2/ureg.s,\n",
    "    \"particle_temperature\":300*ureg.K,\n",
    "    \"particle_density\":1000*ureg.kg/ureg.m**3,\n",
    "\n",
    "    \"trap_sep\":3*ureg.um,\n",
    "    \"trap_height\":8*ureg.pN*ureg.nm,\n",
    "    \"trap_stiffness\":100e-3*ureg.pN/ureg.nm,\n",
    "    \"height_spread\":0,\n",
    "    \"susceptibility_spread\":0,\n",
    "    \"isperiodic\":True,\n",
    "\n",
    "    \"total_time\":total_time,\n",
    "    \"framespersec\":20*ureg.Hz,\n",
    "    \"dt\":0.1*ureg.ms,\n",
    "    \"max_field\":10*ureg.mT,\n",
    "    \"sim_temp\":300*ureg.K,\n",
    "    \"sim_dipole_cutoff\":40*ureg.um,\n",
    "}\n",
    "\n",
    "params[\"lattice_constant\"] = params[\"trap_sep\"]+(2*params[\"particle_radius\"]+1*ureg.um)*np.sqrt(2)\n",
    "#params[\"size\"] = 10"
   ]
  },
  {
   "cell_type": "code",
   "execution_count": 5,
   "metadata": {},
   "outputs": [],
   "source": [
    "def get_md_colloid(params,realization,size):\n",
    "    sp = ice.spins()\n",
    "    \n",
    "    N = size\n",
    "    a = params[\"lattice_constant\"]\n",
    "    \n",
    "    # Create simulation objects\n",
    "    sp.create_lattice(\"square\",[N,N],lattice_constant=a, border=\"periodic\")\n",
    "\n",
    "    particle = ice.particle(radius = params[\"particle_radius\"],\n",
    "                susceptibility = params[\"particle_susceptibility\"],\n",
    "                diffusion = params[\"particle_diffusion\"],\n",
    "                temperature = params[\"particle_temperature\"],\n",
    "                density = params[\"particle_density\"])\n",
    "\n",
    "    trap = ice.trap(trap_sep = params[\"trap_sep\"],\n",
    "                height = params[\"trap_height\"],\n",
    "                stiffness = params[\"trap_stiffness\"])\n",
    "\n",
    "    col = ice.colloidal_ice(sp, particle, trap,\n",
    "                            height_spread = params[\"height_spread\"], \n",
    "                            susceptibility_spread = params[\"susceptibility_spread\"],\n",
    "                            periodic = params[\"isperiodic\"])\n",
    "\n",
    "        \n",
    "    col.randomize()\n",
    "    col.region = np.array([[0,0,-3*(params[\"particle_radius\"]/a/N).magnitude],[1,1,3*(params[\"particle_radius\"]/a/N).magnitude]])*N*a\n",
    "\n",
    "\n",
    "    world = ice.world(\n",
    "            field = params[\"max_field\"],\n",
    "            temperature = params[\"sim_temp\"],\n",
    "            dipole_cutoff = params[\"sim_dipole_cutoff\"],\n",
    "            boundaries=['p', 'p', 'p'])\n",
    "\n",
    "\n",
    "    col.simulation(world,\n",
    "                name = f\"./lammps_files/ctrj{realization}\",\n",
    "                include_timestamp = False,\n",
    "                targetdir = r\".\",\n",
    "                framerate = params[\"framespersec\"],\n",
    "                timestep = params[\"dt\"],\n",
    "                run_time = params[\"total_time\"],\n",
    "                output = [\"x\",\"y\",\"z\",\"mux\",\"muy\",\"muz\"],\n",
    "                processors=1)\n",
    "\n",
    "    # Field\n",
    "    \n",
    "\n",
    "    col.sim.field.fieldx = \"v_Bmag/300e6*time*(time<300e6)+v_Bmag*(time>=300e6)\"\n",
    "    col.sim.field.fieldy = \"0\"\n",
    "    col.sim.field.fieldz = \"0\"\n",
    "\n",
    "    col.run_simulation()\n",
    "\n",
    "    col.load_simulation()\n",
    "\n",
    "    return col"
   ]
  },
  {
   "cell_type": "code",
   "execution_count": 6,
   "metadata": {},
   "outputs": [],
   "source": [
    "def jesus_take_the_wheels(params,data_path,size,realization):\n",
    "    \n",
    "    trj_path = os.path.join(data_path,'trj')\n",
    "    ctrj_path = os.path.join(data_path,'ctrj')\n",
    "\n",
    "    try:\n",
    "        os.mkdir(trj_path)\n",
    "        os.mkdir(ctrj_path)\n",
    "    except:\n",
    "        pass\n",
    "    \n",
    "    col = get_md_colloid(params,realization,size)\n",
    "\n",
    "    filename = f\"trj{realization}.csv\"\n",
    "    col.trj.to_csv(os.path.join(trj_path,filename))\n",
    "\n",
    "    #filename = f\"ctrj{realization}.csv\"\n",
    "    ice.get_ice_trj_low_memory(col,dir_name=ctrj_path)\n",
    "    #trj = ice.get_ice_trj(col.trj, bounds = col.bnd)\n",
    "    #trj.to_csv(ctrj_path + filename)\n",
    "    \n",
    "    return None"
   ]
  },
  {
   "cell_type": "markdown",
   "metadata": {},
   "source": [
    "# MD Shenanigans"
   ]
  },
  {
   "cell_type": "code",
   "execution_count": 6,
   "metadata": {},
   "outputs": [],
   "source": [
    "import concurrent.futures"
   ]
  },
  {
   "cell_type": "code",
   "execution_count": null,
   "metadata": {},
   "outputs": [],
   "source": [
    "size = 10\n",
    "realizations = [6,7,8,9,10]\n",
    "\n",
    "# Create a dir for the size\n",
    "try:\n",
    "    sizepath = os.path.join(data_path,str(size))\n",
    "    os.mkdir(sizepath)\n",
    "except:\n",
    "    pass\n",
    "\n",
    " # Execute all the realizations for that size\n",
    "with concurrent.futures.ThreadPoolExecutor(max_workers=5) as executor:\n",
    "    results = list(\n",
    "        executor.map(\n",
    "            jesus_take_the_wheels,\n",
    "            [params] * len(realizations),\n",
    "            [sizepath] * len(realizations),\n",
    "            [size] * len(realizations),\n",
    "            realizations,\n",
    "        )\n",
    "    )"
   ]
  },
  {
   "cell_type": "code",
   "execution_count": null,
   "metadata": {},
   "outputs": [],
   "source": [
    "trj_raw = trj = pd.read_csv(os.path.join(data_path,'10','trj/trj1.csv'), index_col=[0,1])\n",
    "ctrj_raw = pd.read_csv(os.path.join(data_path,'10','ctrj/ctrj1.csv'), index_col=[0,1])\n",
    "\n",
    "fig, axes = plt.subplots(1,3,figsize=(9,2),dpi=150)\n",
    "\n",
    "ax = axes[0]\n",
    "ax.plot(np.array(trj_raw.loc[idx[:,1],\"t\"]),np.array(trj_raw.loc[idx[:,1],\"mux\"]))\n",
    "ax.set_title(\"$\\\\sim B_x$\")\n",
    "ax.ticklabel_format(style='sci',scilimits=(0,0))\n",
    "\n",
    "ax = axes[1]\n",
    "ax.plot(np.array(trj_raw.loc[idx[:,1],\"t\"]),np.array(trj_raw.loc[idx[:,1],\"muy\"]))\n",
    "ax.set_title(\"$\\\\sim B_y$\")\n",
    "ax.ticklabel_format(style='sci',scilimits=(0,0))\n",
    "\n",
    "ax = axes[2]\n",
    "ax.plot(np.array(trj_raw.loc[idx[:,1],\"t\"]),np.array(trj_raw.loc[idx[:,1],\"muz\"]))\n",
    "ax.set_title(\"$\\\\sim B_z$\")\n",
    "ax.ticklabel_format(style='sci',scilimits=(0,0))\n",
    "\n",
    "plt.show()"
   ]
  },
  {
   "cell_type": "markdown",
   "metadata": {},
   "source": [
    "# Vertex counting"
   ]
  },
  {
   "cell_type": "code",
   "execution_count": null,
   "metadata": {},
   "outputs": [],
   "source": [
    "sizes = list(map(str,np.array([28,29])))\n",
    "sizes"
   ]
  },
  {
   "cell_type": "code",
   "execution_count": null,
   "metadata": {},
   "outputs": [],
   "source": [
    "for strsize in sizes:\n",
    "    print(f\"===== size {strsize} =====\")\n",
    "    params['size'] = int(strsize)\n",
    "    \n",
    "    trj_path = os.path.join(data_path,strsize,\"trj\")\n",
    "    ctrj_path = os.path.join(data_path,strsize,\"ctrj\")\n",
    "    vrt_path = os.path.join(data_path,strsize,\"vertices\")\n",
    "    \n",
    "    try:\n",
    "        os.mkdir(vrt_path)\n",
    "    except:\n",
    "        pass\n",
    "\n",
    "    # Get the number of realizations\n",
    "\n",
    "    for i in range(1,5+1):\n",
    "        print(f\"- realization {i} -\")\n",
    "\n",
    "        trj_file = os.path.join(trj_path,f\"trj{i}.csv\")\n",
    "        print(trj_file)\n",
    "        ctrj_file = os.path.join(ctrj_path,f\"ctrj{i}.csv\")\n",
    "        vrt_file = os.path.join(vrt_path,f\"vertices{i}.csv\")\n",
    "        \n",
    "        \n",
    "        if os.path.isfile(vrt_file):\n",
    "            print(\"Already exists. Skipping\")\n",
    "            continue\n",
    "        \n",
    "        # Importing files\n",
    "        try:\n",
    "            trj_raw = trj = pd.read_csv(trj_file, index_col=[0,1])\n",
    "            ctrj_raw = pd.read_csv(ctrj_file, index_col=[0,1])\n",
    "        except:\n",
    "            print(\"There is no such trj. Skipping\")\n",
    "            continue\n",
    "\n",
    "        # Doing shit with the vertices\n",
    "        v = ice.vertices()\n",
    "        frames = ctrj_raw.index.get_level_values(\"frame\").unique()\n",
    "\n",
    "        v.trj_to_vertices(ctrj_raw.loc[frames[::20]])\n",
    "\n",
    "        print(f\"Saving vertices to \" + vrt_file)\n",
    "        v.vertices.to_csv(vrt_file)\n",
    "\n",
    "        clear_output(wait=True)\n",
    "    "
   ]
  },
  {
   "cell_type": "markdown",
   "metadata": {},
   "source": [
    "## Analyzing vertices"
   ]
  },
  {
   "cell_type": "code",
   "execution_count": 44,
   "metadata": {},
   "outputs": [],
   "source": [
    "def get_vertices_df(vrt_path, last_frame=False):\n",
    "    vertices = aux.getVerticesDict(vrt_path)\n",
    "    counts = aux.getVerticesCount(vertices)\n",
    "    vrt_ts = aux.getVerticesAverage(counts,params[\"framespersec\"])\n",
    "    types = vrt_ts.columns.to_list()[1:]\n",
    "    t = vrt_ts[\"time\"].to_numpy()\n",
    "    vrt_counts = vrt_ts[types].to_numpy()\n",
    "    \n",
    "    if last_frame:\n",
    "        return vrt_counts[-15].tolist()\n",
    "    else:\n",
    "        return vrt_ts"
   ]
  },
  {
   "cell_type": "code",
   "execution_count": 45,
   "metadata": {},
   "outputs": [],
   "source": [
    "vrt_paths = [os.path.join(data_path,size,'vertices') for size in os.listdir(data_path)]"
   ]
  },
  {
   "cell_type": "code",
   "execution_count": null,
   "metadata": {},
   "outputs": [],
   "source": [
    "counts = []\n",
    "for cur_size_path in vrt_paths:\n",
    "    clear_output(wait=False)\n",
    "    cur_counts = get_vertices_df(cur_size_path, last_frame=True)\n",
    "    counts.append(cur_counts)"
   ]
  },
  {
   "cell_type": "code",
   "execution_count": null,
   "metadata": {},
   "outputs": [],
   "source": [
    "types = ['I','II','III','IV','V','VI']\n",
    "data = pd.DataFrame(np.array(counts),columns=types)\n",
    "data['size'] = [int(x) for x in os.listdir(data_path)]\n",
    "data"
   ]
  },
  {
   "cell_type": "code",
   "execution_count": null,
   "metadata": {},
   "outputs": [],
   "source": [
    "fig, ax = plt.subplots(figsize=(10,5))\n",
    "\n",
    "ax.plot(data['size'],data['I'])\n",
    "ax.plot(data['size'],data['II'])\n",
    "ax.plot(data['size'],data['III'])\n",
    "ax.plot(data['size'],data['IV'])\n",
    "ax.plot(data['size'],data['V'])\n",
    "ax.plot(data['size'],data['VI'])\n",
    "\n",
    "ax.legend(types, fontsize=12,title='Type', title_fontsize=15, edgecolor='black')\n",
    "\n",
    "ax.set_xlabel('Size $(n \\\\times n)$')\n",
    "ax.set_ylabel('Counts of last frame')\n",
    "\n",
    "plt.show()"
   ]
  }
 ],
 "metadata": {
  "kernelspec": {
   "display_name": "Python 3",
   "language": "python",
   "name": "python3"
  },
  "language_info": {
   "codemirror_mode": {
    "name": "ipython",
    "version": 3
   },
   "file_extension": ".py",
   "mimetype": "text/x-python",
   "name": "python",
   "nbconvert_exporter": "python",
   "pygments_lexer": "ipython3",
   "version": "3.8.10"
  }
 },
 "nbformat": 4,
 "nbformat_minor": 2
}
