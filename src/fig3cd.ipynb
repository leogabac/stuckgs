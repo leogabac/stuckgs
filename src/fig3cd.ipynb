{
 "cells": [
  {
   "cell_type": "code",
   "execution_count": 2,
   "metadata": {
    "metadata": {}
   },
   "outputs": [],
   "source": [
    "import os\n",
    "import sys\n",
    "\n",
    "import numpy as np\n",
    "import pandas as pd\n",
    "\n",
    "from tqdm import tqdm\n",
    "from IPython.display import clear_output\n",
    "\n",
    "import matplotlib as mpl \n",
    "import matplotlib.pyplot as plt\n",
    "\n",
    "sys.path.insert(0, '../../icenumerics/')\n",
    "sys.path.insert(0, './auxnumerics/')\n",
    "import icenumerics as ice\n",
    "\n",
    "import auxiliary as aux\n",
    "import montecarlo_tools as mc\n",
    "import chirality_tools as chir\n",
    "from parameters import params\n",
    "ureg = ice.ureg\n",
    "\n",
    "%reload_ext autoreload\n",
    "%autoreload 2\n",
    "\n",
    "idx = pd.IndexSlice"
   ]
  },
  {
   "cell_type": "code",
   "execution_count": 3,
   "metadata": {
    "metadata": {}
   },
   "outputs": [],
   "source": [
    "plt.rcParams.update({\n",
    "    \"pgf.texsystem\": \"pdflatex\",\n",
    "    'font.family': 'serif',\n",
    "    'text.usetex': True,\n",
    "    'pgf.rcfonts': False,\n",
    "})"
   ]
  },
  {
   "cell_type": "code",
   "execution_count": 3,
   "metadata": {},
   "outputs": [],
   "source": [
    "vis_path = '../data/sims'\n",
    "trj_raw = pd.read_csv(os.path.join(vis_path,'30','trj','trj1.csv'),index_col=[0,1])"
   ]
  },
  {
   "cell_type": "code",
   "execution_count": 4,
   "metadata": {},
   "outputs": [],
   "source": [
    "particle = ice.particle(radius = params[\"particle_radius\"],\n",
    "            susceptibility = params[\"particle_susceptibility\"],\n",
    "            diffusion = params[\"particle_diffusion\"],\n",
    "            temperature = params[\"particle_temperature\"],\n",
    "            density = params[\"particle_density\"])\n",
    "\n",
    "trap = ice.trap(trap_sep = params[\"trap_sep\"],\n",
    "            height = params[\"trap_height\"],\n",
    "            stiffness = params[\"trap_stiffness\"])\n",
    "\n",
    "\n",
    "params[\"particle\"] = particle\n",
    "params[\"trap\"] = trap\n"
   ]
  },
  {
   "cell_type": "code",
   "execution_count": 23,
   "metadata": {},
   "outputs": [
    {
     "data": {
      "text/plain": [
       "[20,\n",
       " 120,\n",
       " 220,\n",
       " 320,\n",
       " 420,\n",
       " 520,\n",
       " 620,\n",
       " 720,\n",
       " 820,\n",
       " 920,\n",
       " 1020,\n",
       " 1120,\n",
       " 1220,\n",
       " 1320,\n",
       " 1420,\n",
       " 1520,\n",
       " 1620,\n",
       " 1720,\n",
       " 1820,\n",
       " 1920,\n",
       " 2020,\n",
       " 2120,\n",
       " 2220,\n",
       " 2320,\n",
       " 2420,\n",
       " 2520,\n",
       " 2620,\n",
       " 2720,\n",
       " 2820,\n",
       " 2920,\n",
       " 3020,\n",
       " 3120,\n",
       " 3220,\n",
       " 3320,\n",
       " 3420,\n",
       " 3520,\n",
       " 3620,\n",
       " 3720,\n",
       " 3820,\n",
       " 3920,\n",
       " 4020,\n",
       " 4120,\n",
       " 4220,\n",
       " 4320,\n",
       " 4420,\n",
       " 4520,\n",
       " 4620,\n",
       " 4720,\n",
       " 4820,\n",
       " 4920,\n",
       " 5020,\n",
       " 5120,\n",
       " 5220,\n",
       " 5320,\n",
       " 5420,\n",
       " 5520,\n",
       " 5620,\n",
       " 5720,\n",
       " 5820,\n",
       " 5920,\n",
       " 6020,\n",
       " 6120,\n",
       " 6220,\n",
       " 6320,\n",
       " 6420,\n",
       " 6520,\n",
       " 6620,\n",
       " 6720,\n",
       " 6820,\n",
       " 6920,\n",
       " 7020,\n",
       " 7120]"
      ]
     },
     "execution_count": 23,
     "metadata": {},
     "output_type": "execute_result"
    }
   ],
   "source": [
    "initial_frame = (params['framespersec'] * 0).magnitude\n",
    "vrt_df = pd.read_csv(os.path.join(vis_path,'30','vertices','vertices6.csv'), index_col=[0,1] )\n",
    "vrt_frames = vrt_df.index.get_level_values(\"frame\").unique().to_list()\n",
    "analysis_frames = [frame for frame in vrt_frames if frame > initial_frame][::5]\n",
    "analysis_frames"
   ]
  },
  {
   "cell_type": "code",
   "execution_count": 29,
   "metadata": {},
   "outputs": [
    {
     "name": "stderr",
     "output_type": "stream",
     "text": [
      "100%|██████████| 72/72 [22:31<00:00, 18.77s/it]\n"
     ]
    }
   ],
   "source": [
    "psi= []\n",
    "for frame in tqdm(analysis_frames):\n",
    "    results = [chir.get_charge_order_on_frame_on_realization(params,data_path,frame,realization,tol=1.6) for realization in range(1,10+1) ]\n",
    "    psi.append(results)"
   ]
  },
  {
   "cell_type": "code",
   "execution_count": 36,
   "metadata": {},
   "outputs": [],
   "source": [
    "psidf = pd.DataFrame(psi)\n",
    "psidf['frame'] = analysis_frames\n",
    "psidf.set_index('frame',inplace=True)\n",
    "psidf.to_csv('../data/sims/kappa.csv')"
   ]
  },
  {
   "cell_type": "code",
   "execution_count": 12,
   "metadata": {
    "metadata": {}
   },
   "outputs": [],
   "source": [
    "psidf = pd.read_csv('../data/sims/kappa.csv', index_col='frame')\n",
    "analysis_frames = psidf.index.to_numpy()\n",
    "psi = psidf.to_numpy()"
   ]
  },
  {
   "cell_type": "code",
   "execution_count": 14,
   "metadata": {
    "metadata": {}
   },
   "outputs": [],
   "source": [
    "N = 899\n",
    "psi_av = np.array(np.abs(psi)).mean(axis=1)\n",
    "nav = psi_av/4/N\n",
    "psi_std = np.array(np.abs(psi)).std(axis=1)\n",
    "nstd = psi_std/4/N\n",
    "time = np.array(analysis_frames)/20\n",
    "field = 10/300 * time"
   ]
  },
  {
   "cell_type": "code",
   "execution_count": 17,
   "metadata": {
    "metadata": {}
   },
   "outputs": [
    {
     "data": {
      "image/png": "[encoded data removed]",
      "text/plain": [
       "<Figure size 600x300 with 2 Axes>"
      ]
     },
     "metadata": {},
     "output_type": "display_data"
    }
   ],
   "source": [
    "fig, axes = plt.subplots(2,1,figsize=(6,3))\n",
    "\n",
    "ax = axes[0]\n",
    "ax.plot(field,nav)\n",
    "ax.set_xlim(0,10)\n",
    "ax.set_xticklabels([])\n",
    "#ax.set_ylim(0,1)\n",
    "#ax.set_yticks(list(range(0,301,100)))\n",
    "ax.tick_params(axis='both', which='major', labelsize=15)\n",
    "ax.set_ylabel('$\\\\langle \\\\kappa \\\\rangle / 4N$', fontsize=15)\n",
    "ax.set_xlim(0,10)\n",
    "\n",
    "ax.grid()\n",
    "\n",
    "ax = axes[1]\n",
    "ax.plot(field,nstd)\n",
    "ax.set_xlim(0,10)\n",
    "#ax.set_ylim(0,1)\n",
    "#ax.set_yticks(list(range(0,201,50)))\n",
    "ax.tick_params(axis='both', which='major', labelsize=15)\n",
    "\n",
    "\n",
    "\n",
    "\n",
    "ax.set_xlabel('$B$ \\\\,\\\\, [\\\\,mT\\\\,]', fontsize=15)\n",
    "ax.set_ylabel('$\\\\sigma_\\\\kappa / 4N$', fontsize=15)\n",
    "ax.grid()\n",
    "\n",
    "plt.show()\n",
    "\n",
    "fig.savefig('../data/figs/fig3cd.png', dpi=300,bbox_inches='tight')\n",
    "fig.savefig('../data/figs/fig3cd.pdf')"
   ]
  },
  {
   "cell_type": "code",
   "execution_count": 28,
   "metadata": {
    "metadata": {}
   },
   "outputs": [
    {
     "data": {
      "image/png": "[encoded data removed]",
      "text/plain": [
       "<Figure size 600x200 with 1 Axes>"
      ]
     },
     "metadata": {},
     "output_type": "display_data"
    }
   ],
   "source": [
    "fig, ax = plt.subplots(figsize=(6,2))\n",
    "\n",
    "ax.plot(field,nav)\n",
    "ax.fill_between(field, nav-nstd, nav+nstd,\n",
    "    alpha=1,edgecolor='#FF2D00',\n",
    "    facecolor='#FF9882',\n",
    "    linewidth=0)\n",
    "\n",
    "ax.xaxis.set_major_locator(plt.MultipleLocator(10))\n",
    "ax.xaxis.set_minor_locator(plt.NullLocator())\n",
    "ax.xaxis.set_minor_formatter(plt.NullFormatter())\n",
    "\n",
    "ax.yaxis.set_major_locator(plt.MultipleLocator(0.05))\n",
    "ax.yaxis.set_minor_locator(plt.NullLocator())\n",
    "ax.yaxis.set_minor_formatter(plt.NullFormatter())\n",
    "\n",
    "\n",
    "ax.tick_params(axis='both', which='major', labelsize=15)\n",
    "\n",
    "ax.set_ylabel('$\\\\langle \\\\kappa \\\\rangle / 4N$', fontsize=15)\n",
    "\n",
    "ax.set_xlabel('$B$ \\\\,\\\\, [\\\\,mT\\\\,]', fontsize=15)\n",
    "ax.set_xlim(0,10)\n",
    "ax.grid()\n",
    "\n",
    "ax.minorticks_on()\n",
    "\n",
    "\n",
    "plt.show()\n",
    "\n",
    "fig.savefig('../data/figs/fig3cd.png', dpi=300,bbox_inches='tight')\n",
    "fig.savefig('../data/figs/fig3cd.pdf')"
   ]
  }
 ],
 "metadata": {
  "kernelspec": {
   "display_name": "Python 3",
   "language": "python",
   "name": "python3"
  },
  "language_info": {
   "codemirror_mode": {
    "name": "ipython",
    "version": 3
   },
   "file_extension": ".py",
   "mimetype": "text/x-python",
   "name": "python",
   "nbconvert_exporter": "python",
   "pygments_lexer": "ipython3",
   "version": "3.12.3"
  }
 },
 "nbformat": 4,
 "nbformat_minor": 2
}
