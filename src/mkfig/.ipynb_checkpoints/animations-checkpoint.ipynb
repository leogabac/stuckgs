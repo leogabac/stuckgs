{
 "cells": [
  {
   "cell_type": "code",
   "execution_count": 1,
   "id": "05a9d95b",
   "metadata": {},
   "outputs": [],
   "source": [
    "import os\n",
    "import sys\n",
    "\n",
    "import numpy as np\n",
    "import pandas as pd\n",
    "\n",
    "from tqdm import tqdm\n",
    "from IPython.display import clear_output\n",
    "\n",
    "import matplotlib as mpl \n",
    "import matplotlib.pyplot as plt\n",
    "\n",
    "sys.path.insert(0, '../../../icenumerics/')\n",
    "sys.path.insert(0, '../auxnumerics/')\n",
    "sys.path.insert(0, '..')\n",
    "import icenumerics as ice\n",
    "\n",
    "import auxiliary as aux\n",
    "import montecarlo_tools as mc\n",
    "import chirality_tools as chir\n",
    "from parameters import params\n",
    "ureg = ice.ureg\n",
    "\n",
    "%reload_ext autoreload\n",
    "%autoreload 2\n",
    "\n",
    "idx = pd.IndexSlice"
   ]
  },
  {
   "cell_type": "code",
   "execution_count": 76,
   "id": "67dc80e0",
   "metadata": {},
   "outputs": [],
   "source": [
    "plt.rcParams.update({\n",
    "    \"pgf.texsystem\": \"pdflatex\",\n",
    "    'font.family': 'serif',\n",
    "    'text.usetex': True,\n",
    "    'pgf.rcfonts': False,\n",
    "})"
   ]
  },
  {
   "cell_type": "code",
   "execution_count": 77,
   "id": "38b899e9",
   "metadata": {},
   "outputs": [],
   "source": [
    "DRIVE = '/mnt/BIG'\n",
    "PROJECT = os.path.join('stuckgs','data')\n",
    "SIMS = 'sims'\n",
    "SIZE = 10\n",
    "TRJ_PATH = os.path.join(DRIVE,PROJECT,SIMS,str(SIZE),'ctrj')\n",
    "VRT_PATH = os.path.join(DRIVE,PROJECT,SIMS,str(SIZE),'vertices')\n",
    "ANIM_PATH = os.path.join(DRIVE,PROJECT,SIMS,str(SIZE),'frames')"
   ]
  },
  {
   "cell_type": "code",
   "execution_count": 78,
   "id": "97678e59",
   "metadata": {},
   "outputs": [],
   "source": [
    "realization = 1\n",
    "trj = ice.trajectory(os.path.join(TRJ_PATH,f'xtrj{realization}.csv'))\n",
    "trj.load()\n",
    "v = trj.get_vertices(os.path.join(VRT_PATH,f'vertices{realization}.csv'))"
   ]
  },
  {
   "cell_type": "code",
   "execution_count": 68,
   "id": "9b7251a5",
   "metadata": {},
   "outputs": [],
   "source": [
    "region_max = SIZE * params['lattice_constant'].magnitude\n",
    "common_frames = np.intersect1d(trj.frames,v.frames)\n",
    "\n",
    "# get only the quench part\n",
    "# common_frames = common_frames[common_frames<=6000]"
   ]
  },
  {
   "cell_type": "code",
   "execution_count": 79,
   "id": "a4838cc0",
   "metadata": {},
   "outputs": [],
   "source": [
    "region = [0,region_max,0,region_max]\n",
    "time = common_frames / 20\n",
    "field = 10/300 * time\n",
    "titles = [f'$t={t:.2f}$' for t in time]"
   ]
  },
  {
   "cell_type": "code",
   "execution_count": null,
   "id": "15b01b43",
   "metadata": {},
   "outputs": [],
   "source": [
    "for frame,stime in zip(common_frames, titles):\n",
    "    trj.paint_frame(v, \n",
    "                   params, \n",
    "                   ANIM_PATH,\n",
    "                   frame,\n",
    "                   stime,\n",
    "                   region,\n",
    "                   special_case=True,\n",
    "                    # kwargs\n",
    "                   dpl_scale=1,\n",
    "                   dpl_width=3,\n",
    "                   circle_scale=0.5)"
   ]
  },
  {
   "cell_type": "code",
   "execution_count": 73,
   "id": "14c22d53",
   "metadata": {},
   "outputs": [
    {
     "name": "stderr",
     "output_type": "stream",
     "text": [
      "mv: '/mnt/BIG/stuckgs/data/sims/10/frames/0.png' and '/mnt/BIG/stuckgs/data/sims/10/frames/0.png' are the same file\n"
     ]
    }
   ],
   "source": [
    "for (i,filename) in enumerate(os.listdir(ANIM_PATH)):\n",
    "    src = os.path.join(ANIM_PATH,filename)\n",
    "    trg = os.path.join(ANIM_PATH,f'{i}.png')\n",
    "    os.system(f'mv {src} {trg}')"
   ]
  },
  {
   "cell_type": "code",
   "execution_count": 75,
   "id": "d594b3a9",
   "metadata": {},
   "outputs": [
    {
     "name": "stderr",
     "output_type": "stream",
     "text": [
      "ffmpeg version n7.1 Copyright (c) 2000-2024 the FFmpeg developers\n",
      "  built with gcc 14.2.1 (GCC) 20240910\n",
      "  configuration: --prefix=/usr --disable-debug --disable-static --disable-stripping --enable-amf --enable-avisynth --enable-cuda-llvm --enable-lto --enable-fontconfig --enable-frei0r --enable-gmp --enable-gnutls --enable-gpl --enable-ladspa --enable-libaom --enable-libass --enable-libbluray --enable-libbs2b --enable-libdav1d --enable-libdrm --enable-libdvdnav --enable-libdvdread --enable-libfreetype --enable-libfribidi --enable-libglslang --enable-libgsm --enable-libharfbuzz --enable-libiec61883 --enable-libjack --enable-libjxl --enable-libmodplug --enable-libmp3lame --enable-libopencore_amrnb --enable-libopencore_amrwb --enable-libopenjpeg --enable-libopenmpt --enable-libopus --enable-libplacebo --enable-libpulse --enable-librav1e --enable-librsvg --enable-librubberband --enable-libsnappy --enable-libsoxr --enable-libspeex --enable-libsrt --enable-libssh --enable-libsvtav1 --enable-libtheora --enable-libv4l2 --enable-libvidstab --enable-libvmaf --enable-libvorbis --enable-libvpl --enable-libvpx --enable-libwebp --enable-libx264 --enable-libx265 --enable-libxcb --enable-libxml2 --enable-libxvid --enable-libzimg --enable-libzmq --enable-nvdec --enable-nvenc --enable-opencl --enable-opengl --enable-shared --enable-vapoursynth --enable-version3 --enable-vulkan\n",
      "  libavutil      59. 39.100 / 59. 39.100\n",
      "  libavcodec     61. 19.100 / 61. 19.100\n",
      "  libavformat    61.  7.100 / 61.  7.100\n",
      "  libavdevice    61.  3.100 / 61.  3.100\n",
      "  libavfilter    10.  4.100 / 10.  4.100\n",
      "  libswscale      8.  3.100 /  8.  3.100\n",
      "  libswresample   5.  3.100 /  5.  3.100\n",
      "  libpostproc    58.  3.100 / 58.  3.100\n",
      "Input #0, image2, from '/mnt/BIG/stuckgs/data/sims/10/frames/%d.png':\n",
      "  Duration: 00:00:24.00, start: 0.000000, bitrate: N/A\n",
      "  Stream #0:0: Video: png, rgba(pc, gbr/unknown/unknown), 790x825 [SAR 3937:3937 DAR 158:165], 15 fps, 15 tbr, 15 tbn\n",
      "Stream mapping:\n",
      "  Stream #0:0 -> #0:0 (png (native) -> h264 (libx264))\n",
      "Press [q] to stop, [?] for help\n",
      "[libx264 @ 0x623513083140] using SAR=824/825\n",
      "[libx264 @ 0x623513083140] using cpu capabilities: MMX2 SSE2Fast SSSE3 SSE4.2 AVX FMA3 BMI2 AVX2 AVX512\n",
      "[libx264 @ 0x623513083140] profile High, level 3.1, 4:2:0, 8-bit\n",
      "[libx264 @ 0x623513083140] 264 - core 164 r3108 31e19f9 - H.264/MPEG-4 AVC codec - Copyleft 2003-2023 - http://www.videolan.org/x264.html - options: cabac=1 ref=3 deblock=1:0:0 analyse=0x3:0x113 me=hex subme=7 psy=1 psy_rd=1.00:0.00 mixed_ref=1 me_range=16 chroma_me=1 trellis=1 8x8dct=1 cqm=0 deadzone=21,11 fast_pskip=1 chroma_qp_offset=-2 threads=24 lookahead_threads=4 sliced_threads=0 nr=0 decimate=1 interlaced=0 bluray_compat=0 constrained_intra=0 bframes=3 b_pyramid=2 b_adapt=1 b_bias=0 direct=1 weightb=1 open_gop=0 weightp=2 keyint=250 keyint_min=15 scenecut=40 intra_refresh=0 rc_lookahead=40 rc=crf mbtree=1 crf=23.0 qcomp=0.60 qpmin=0 qpmax=69 qpstep=4 ip_ratio=1.40 aq=1:1.00\n",
      "Output #0, mp4, to '/mnt/BIG/stuckgs/data/sims/10/frames/output.mp4':\n",
      "  Metadata:\n",
      "    encoder         : Lavf61.7.100\n",
      "  Stream #0:0: Video: h264 (avc1 / 0x31637661), yuv420p(tv, progressive), 790x824 [SAR 824:825 DAR 158:165], q=2-31, 15 fps, 15360 tbn\n",
      "      Metadata:\n",
      "        encoder         : Lavc61.19.100 libx264\n",
      "      Side data:\n",
      "        cpb: bitrate max/min/avg: 0/0/0 buffer size: 0 vbv_delay: N/A\n",
      "[out#0/mp4 @ 0x623513083f40] video:2379KiB audio:0KiB subtitle:0KiB other streams:0KiB global headers:0KiB muxing overhead: 0.214608%\n",
      "frame=  360 fps=0.0 q=-1.0 Lsize=    2385KiB time=00:00:23.86 bitrate= 818.5kbits/s speed=31.9x    \n",
      "[libx264 @ 0x623513083140] frame I:2     Avg QP:19.35  size:104355\n",
      "[libx264 @ 0x623513083140] frame P:91    Avg QP:23.48  size: 13558\n",
      "[libx264 @ 0x623513083140] frame B:267   Avg QP:30.76  size:  3720\n",
      "[libx264 @ 0x623513083140] consecutive B-frames:  1.1%  0.0%  0.0% 98.9%\n",
      "[libx264 @ 0x623513083140] mb I  I16..4: 15.9% 12.4% 71.7%\n",
      "[libx264 @ 0x623513083140] mb P  I16..4:  0.2%  0.9%  1.0%  P16..4: 19.0% 12.8%  9.5%  0.0%  0.0%    skip:56.6%\n",
      "[libx264 @ 0x623513083140] mb B  I16..4:  0.1%  1.0%  0.2%  B16..8: 24.5% 10.2%  2.4%  direct: 1.7%  skip:59.9%  L0:50.4% L1:42.0% BI: 7.6%\n",
      "[libx264 @ 0x623513083140] 8x8 transform intra:51.7% inter:19.5%\n",
      "[libx264 @ 0x623513083140] coded y,uvDC,uvAC intra: 26.9% 27.6% 23.9% inter: 5.5% 3.0% 2.1%\n",
      "[libx264 @ 0x623513083140] i16 v,h,dc,p: 43% 29% 27%  0%\n",
      "[libx264 @ 0x623513083140] i8 v,h,dc,ddl,ddr,vr,hd,vl,hu:  7%  4% 89%  0%  0%  0%  0%  0%  0%\n",
      "[libx264 @ 0x623513083140] i4 v,h,dc,ddl,ddr,vr,hd,vl,hu: 31% 21% 16%  6%  7%  5%  5%  4%  4%\n",
      "[libx264 @ 0x623513083140] i8c dc,h,v,p: 69% 15% 14%  2%\n",
      "[libx264 @ 0x623513083140] Weighted P-Frames: Y:0.0% UV:0.0%\n",
      "[libx264 @ 0x623513083140] ref P L0: 48.3%  2.6% 26.1% 23.0%\n",
      "[libx264 @ 0x623513083140] ref B L0: 62.2% 27.6% 10.2%\n",
      "[libx264 @ 0x623513083140] ref B L1: 81.2% 18.8%\n",
      "[libx264 @ 0x623513083140] kb/s:811.95\n"
     ]
    },
    {
     "data": {
      "text/plain": [
       "0"
      ]
     },
     "execution_count": 75,
     "metadata": {},
     "output_type": "execute_result"
    }
   ],
   "source": [
    "src = f'{ANIM_PATH}/%d.png'\n",
    "trg = f'{ANIM_PATH}/output.mp4'\n",
    "ffmpeg = [\n",
    "    'ffmpeg -framerate 15 -i',\n",
    "    src,\n",
    "    '-vf \"scale=trunc(iw/2)*2:trunc(ih/2)*2\"',\n",
    "    '-c:v libx264 -pix_fmt yuv420p',\n",
    "    trg\n",
    "]\n",
    "os.system(' '.join(ffmpeg))"
   ]
  },
  {
   "cell_type": "code",
   "execution_count": null,
   "id": "69828e7c",
   "metadata": {},
   "outputs": [],
   "source": []
  }
 ],
 "metadata": {
  "kernelspec": {
   "display_name": "Python 3 (ipykernel)",
   "language": "python",
   "name": "python3"
  },
  "language_info": {
   "codemirror_mode": {
    "name": "ipython",
    "version": 3
   },
   "file_extension": ".py",
   "mimetype": "text/x-python",
   "name": "python",
   "nbconvert_exporter": "python",
   "pygments_lexer": "ipython3",
   "version": "3.12.7"
  },
  "varInspector": {
   "cols": {
    "lenName": 16,
    "lenType": 16,
    "lenVar": 40
   },
   "kernels_config": {
    "python": {
     "delete_cmd_postfix": "",
     "delete_cmd_prefix": "del ",
     "library": "var_list.py",
     "varRefreshCmd": "print(var_dic_list())"
    },
    "r": {
     "delete_cmd_postfix": ") ",
     "delete_cmd_prefix": "rm(",
     "library": "var_list.r",
     "varRefreshCmd": "cat(var_dic_list()) "
    }
   },
   "types_to_exclude": [
    "module",
    "function",
    "builtin_function_or_method",
    "instance",
    "_Feature"
   ],
   "window_display": false
  }
 },
 "nbformat": 4,
 "nbformat_minor": 5
}
