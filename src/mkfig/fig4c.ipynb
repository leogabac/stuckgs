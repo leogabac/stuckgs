{
 "cells": [
  {
   "cell_type": "code",
   "execution_count": 1,
   "metadata": {},
   "outputs": [],
   "source": [
    "import os\n",
    "import sys\n",
    "\n",
    "import numpy as np\n",
    "import pandas as pd\n",
    "\n",
    "from tqdm import tqdm\n",
    "from IPython.display import clear_output\n",
    "\n",
    "import matplotlib.pyplot as plt\n",
    "\n",
    "sys.path.insert(0, '../../icenumerics/')\n",
    "sys.path.insert(0, './auxnumerics/')\n",
    "import icenumerics as ice\n",
    "\n",
    "from numba import jit\n",
    "import auxiliary as aux\n",
    "import montecarlo_tools as mc\n",
    "import chirality_tools as chir\n",
    "import energy\n",
    "from parameters import params\n",
    "ureg = ice.ureg\n",
    "\n",
    "%reload_ext autoreload\n",
    "%autoreload 2\n",
    "\n",
    "idx = pd.IndexSlice"
   ]
  },
  {
   "cell_type": "code",
   "execution_count": 2,
   "metadata": {},
   "outputs": [],
   "source": [
    "plt.rcParams.update({\n",
    "    \"pgf.texsystem\": \"pdflatex\",\n",
    "    'font.family': 'serif',\n",
    "    'text.usetex': True,\n",
    "    'pgf.rcfonts': False,\n",
    "})"
   ]
  },
  {
   "cell_type": "markdown",
   "metadata": {},
   "source": [
    "## Visualization"
   ]
  },
  {
   "cell_type": "code",
   "execution_count": 3,
   "metadata": {},
   "outputs": [],
   "source": [
    "sim_path = '../data/sims/'\n",
    "data_path = '/media/eru/ina/stuckgs/data/'\n",
    "energies = pd.read_csv(os.path.join(sim_path,'energiessize.csv'), index_col='size')\n",
    "sizes = energies.index.to_list()"
   ]
  },
  {
   "cell_type": "code",
   "execution_count": 4,
   "metadata": {},
   "outputs": [],
   "source": [
    "gse = []\n",
    "for size in sizes:\n",
    "    gs = pd.read_csv(f'../data/states/af4/{size}.csv', index_col='id')\n",
    "    sel_particles = aux.get_positions_from_ctrj(gs).to_numpy()\n",
    "    gs_energy = energy.calculate_energy(params['freedom'],size*params['lattice_constant'].magnitude,sel_particles)\n",
    "    gse.append(gs_energy)\n"
   ]
  },
  {
   "cell_type": "code",
   "execution_count": 5,
   "metadata": {
    "metadata": {}
   },
   "outputs": [
    {
     "data": {
      "text/html": [
       "<div>\n",
       "<style scoped>\n",
       "    .dataframe tbody tr th:only-of-type {\n",
       "        vertical-align: middle;\n",
       "    }\n",
       "\n",
       "    .dataframe tbody tr th {\n",
       "        vertical-align: top;\n",
       "    }\n",
       "\n",
       "    .dataframe thead th {\n",
       "        text-align: right;\n",
       "    }\n",
       "</style>\n",
       "<table border=\"1\" class=\"dataframe\">\n",
       "  <thead>\n",
       "    <tr style=\"text-align: right;\">\n",
       "      <th></th>\n",
       "      <th>0</th>\n",
       "      <th>1</th>\n",
       "      <th>2</th>\n",
       "      <th>3</th>\n",
       "      <th>4</th>\n",
       "      <th>5</th>\n",
       "      <th>6</th>\n",
       "      <th>7</th>\n",
       "      <th>8</th>\n",
       "      <th>9</th>\n",
       "    </tr>\n",
       "    <tr>\n",
       "      <th>size</th>\n",
       "      <th></th>\n",
       "      <th></th>\n",
       "      <th></th>\n",
       "      <th></th>\n",
       "      <th></th>\n",
       "      <th></th>\n",
       "      <th></th>\n",
       "      <th></th>\n",
       "      <th></th>\n",
       "      <th></th>\n",
       "    </tr>\n",
       "  </thead>\n",
       "  <tbody>\n",
       "    <tr>\n",
       "      <th>10</th>\n",
       "      <td>-4.080110e+05</td>\n",
       "      <td>-4.048835e+05</td>\n",
       "      <td>-4.064367e+05</td>\n",
       "      <td>-4.034978e+05</td>\n",
       "      <td>-4.077740e+05</td>\n",
       "      <td>-4.053030e+05</td>\n",
       "      <td>-4.067845e+05</td>\n",
       "      <td>-4.083347e+05</td>\n",
       "      <td>-4.085419e+05</td>\n",
       "      <td>-4.018400e+05</td>\n",
       "    </tr>\n",
       "    <tr>\n",
       "      <th>12</th>\n",
       "      <td>-5.957535e+05</td>\n",
       "      <td>-5.945571e+05</td>\n",
       "      <td>-5.894080e+05</td>\n",
       "      <td>-5.914157e+05</td>\n",
       "      <td>-5.885268e+05</td>\n",
       "      <td>-5.928404e+05</td>\n",
       "      <td>-5.906389e+05</td>\n",
       "      <td>-5.899752e+05</td>\n",
       "      <td>-5.921465e+05</td>\n",
       "      <td>-5.910536e+05</td>\n",
       "    </tr>\n",
       "    <tr>\n",
       "      <th>14</th>\n",
       "      <td>-8.132140e+05</td>\n",
       "      <td>-8.134376e+05</td>\n",
       "      <td>-8.083577e+05</td>\n",
       "      <td>-8.139550e+05</td>\n",
       "      <td>-8.085199e+05</td>\n",
       "      <td>-8.110923e+05</td>\n",
       "      <td>-8.094632e+05</td>\n",
       "      <td>-8.101603e+05</td>\n",
       "      <td>-8.091481e+05</td>\n",
       "      <td>-8.095964e+05</td>\n",
       "    </tr>\n",
       "    <tr>\n",
       "      <th>16</th>\n",
       "      <td>-1.063126e+06</td>\n",
       "      <td>-1.057487e+06</td>\n",
       "      <td>-1.064862e+06</td>\n",
       "      <td>-1.066885e+06</td>\n",
       "      <td>-1.068094e+06</td>\n",
       "      <td>-1.065948e+06</td>\n",
       "      <td>-1.064388e+06</td>\n",
       "      <td>-1.062948e+06</td>\n",
       "      <td>-1.063031e+06</td>\n",
       "      <td>-1.064098e+06</td>\n",
       "    </tr>\n",
       "    <tr>\n",
       "      <th>18</th>\n",
       "      <td>-1.350081e+06</td>\n",
       "      <td>-1.354327e+06</td>\n",
       "      <td>-1.347783e+06</td>\n",
       "      <td>-1.352028e+06</td>\n",
       "      <td>-1.349606e+06</td>\n",
       "      <td>-1.354611e+06</td>\n",
       "      <td>-1.355319e+06</td>\n",
       "      <td>-1.348923e+06</td>\n",
       "      <td>-1.359765e+06</td>\n",
       "      <td>-1.349441e+06</td>\n",
       "    </tr>\n",
       "    <tr>\n",
       "      <th>20</th>\n",
       "      <td>-1.678196e+06</td>\n",
       "      <td>-1.674367e+06</td>\n",
       "      <td>-1.667049e+06</td>\n",
       "      <td>-1.677004e+06</td>\n",
       "      <td>-1.678748e+06</td>\n",
       "      <td>-1.670727e+06</td>\n",
       "      <td>-1.680718e+06</td>\n",
       "      <td>-1.671159e+06</td>\n",
       "      <td>-1.679499e+06</td>\n",
       "      <td>-1.681300e+06</td>\n",
       "    </tr>\n",
       "    <tr>\n",
       "      <th>22</th>\n",
       "      <td>-2.034328e+06</td>\n",
       "      <td>-2.035277e+06</td>\n",
       "      <td>-2.038580e+06</td>\n",
       "      <td>-2.031275e+06</td>\n",
       "      <td>-2.034452e+06</td>\n",
       "      <td>-2.036139e+06</td>\n",
       "      <td>-2.035534e+06</td>\n",
       "      <td>-2.026015e+06</td>\n",
       "      <td>-2.021753e+06</td>\n",
       "      <td>-2.036269e+06</td>\n",
       "    </tr>\n",
       "    <tr>\n",
       "      <th>24</th>\n",
       "      <td>-2.421885e+06</td>\n",
       "      <td>-2.423298e+06</td>\n",
       "      <td>-2.419782e+06</td>\n",
       "      <td>-2.434234e+06</td>\n",
       "      <td>-2.429039e+06</td>\n",
       "      <td>-2.425845e+06</td>\n",
       "      <td>-2.436126e+06</td>\n",
       "      <td>-2.424410e+06</td>\n",
       "      <td>-2.428424e+06</td>\n",
       "      <td>-2.429165e+06</td>\n",
       "    </tr>\n",
       "    <tr>\n",
       "      <th>26</th>\n",
       "      <td>-2.844180e+06</td>\n",
       "      <td>-2.847643e+06</td>\n",
       "      <td>-2.854117e+06</td>\n",
       "      <td>-2.859103e+06</td>\n",
       "      <td>-2.853104e+06</td>\n",
       "      <td>-2.854138e+06</td>\n",
       "      <td>-2.842787e+06</td>\n",
       "      <td>-2.858478e+06</td>\n",
       "      <td>-2.864429e+06</td>\n",
       "      <td>-2.860794e+06</td>\n",
       "    </tr>\n",
       "    <tr>\n",
       "      <th>28</th>\n",
       "      <td>-3.308180e+06</td>\n",
       "      <td>-3.318808e+06</td>\n",
       "      <td>-3.307086e+06</td>\n",
       "      <td>-3.324869e+06</td>\n",
       "      <td>-3.305688e+06</td>\n",
       "      <td>-3.313136e+06</td>\n",
       "      <td>-3.305437e+06</td>\n",
       "      <td>-3.317851e+06</td>\n",
       "      <td>-3.330905e+06</td>\n",
       "      <td>-3.311722e+06</td>\n",
       "    </tr>\n",
       "    <tr>\n",
       "      <th>30</th>\n",
       "      <td>-3.814539e+06</td>\n",
       "      <td>-3.812715e+06</td>\n",
       "      <td>-3.812264e+06</td>\n",
       "      <td>-3.810238e+06</td>\n",
       "      <td>-3.800865e+06</td>\n",
       "      <td>-3.815263e+06</td>\n",
       "      <td>-3.821094e+06</td>\n",
       "      <td>-3.797285e+06</td>\n",
       "      <td>-3.816605e+06</td>\n",
       "      <td>-3.815046e+06</td>\n",
       "    </tr>\n",
       "  </tbody>\n",
       "</table>\n",
       "</div>"
      ],
      "text/plain": [
       "                 0             1             2             3             4  \\\n",
       "size                                                                         \n",
       "10   -4.080110e+05 -4.048835e+05 -4.064367e+05 -4.034978e+05 -4.077740e+05   \n",
       "12   -5.957535e+05 -5.945571e+05 -5.894080e+05 -5.914157e+05 -5.885268e+05   \n",
       "14   -8.132140e+05 -8.134376e+05 -8.083577e+05 -8.139550e+05 -8.085199e+05   \n",
       "16   -1.063126e+06 -1.057487e+06 -1.064862e+06 -1.066885e+06 -1.068094e+06   \n",
       "18   -1.350081e+06 -1.354327e+06 -1.347783e+06 -1.352028e+06 -1.349606e+06   \n",
       "20   -1.678196e+06 -1.674367e+06 -1.667049e+06 -1.677004e+06 -1.678748e+06   \n",
       "22   -2.034328e+06 -2.035277e+06 -2.038580e+06 -2.031275e+06 -2.034452e+06   \n",
       "24   -2.421885e+06 -2.423298e+06 -2.419782e+06 -2.434234e+06 -2.429039e+06   \n",
       "26   -2.844180e+06 -2.847643e+06 -2.854117e+06 -2.859103e+06 -2.853104e+06   \n",
       "28   -3.308180e+06 -3.318808e+06 -3.307086e+06 -3.324869e+06 -3.305688e+06   \n",
       "30   -3.814539e+06 -3.812715e+06 -3.812264e+06 -3.810238e+06 -3.800865e+06   \n",
       "\n",
       "                 5             6             7             8             9  \n",
       "size                                                                        \n",
       "10   -4.053030e+05 -4.067845e+05 -4.083347e+05 -4.085419e+05 -4.018400e+05  \n",
       "12   -5.928404e+05 -5.906389e+05 -5.899752e+05 -5.921465e+05 -5.910536e+05  \n",
       "14   -8.110923e+05 -8.094632e+05 -8.101603e+05 -8.091481e+05 -8.095964e+05  \n",
       "16   -1.065948e+06 -1.064388e+06 -1.062948e+06 -1.063031e+06 -1.064098e+06  \n",
       "18   -1.354611e+06 -1.355319e+06 -1.348923e+06 -1.359765e+06 -1.349441e+06  \n",
       "20   -1.670727e+06 -1.680718e+06 -1.671159e+06 -1.679499e+06 -1.681300e+06  \n",
       "22   -2.036139e+06 -2.035534e+06 -2.026015e+06 -2.021753e+06 -2.036269e+06  \n",
       "24   -2.425845e+06 -2.436126e+06 -2.424410e+06 -2.428424e+06 -2.429165e+06  \n",
       "26   -2.854138e+06 -2.842787e+06 -2.858478e+06 -2.864429e+06 -2.860794e+06  \n",
       "28   -3.313136e+06 -3.305437e+06 -3.317851e+06 -3.330905e+06 -3.311722e+06  \n",
       "30   -3.815263e+06 -3.821094e+06 -3.797285e+06 -3.816605e+06 -3.815046e+06  "
      ]
     },
     "execution_count": 5,
     "metadata": {},
     "output_type": "execute_result"
    }
   ],
   "source": [
    "energies"
   ]
  },
  {
   "cell_type": "code",
   "execution_count": 6,
   "metadata": {
    "metadata": {}
   },
   "outputs": [],
   "source": [
    "dE = energies.dropna(axis=1).to_numpy() - np.array(gse).reshape(-1,1)\n",
    "dEav = dE.mean(axis=1)\n",
    "dEstd = dE.std(axis=1)\n",
    "eta = dEav / params['kbT'].magnitude / aux.bint(sizes)**2\n",
    "std = dEstd / params['kbT'].magnitude / aux.bint(sizes)**2"
   ]
  },
  {
   "cell_type": "code",
   "execution_count": 8,
   "metadata": {
    "metadata": {}
   },
   "outputs": [],
   "source": [
    "from sklearn.linear_model import LinearRegression\n",
    "\n",
    "x = np.array(sizes).reshape(-1,1)\n",
    "y = eta.copy()\n",
    "\n",
    "model = LinearRegression()\n",
    "model.fit(x,y)\n",
    "\n",
    "predicted = model.predict(x)"
   ]
  },
  {
   "cell_type": "code",
   "execution_count": 9,
   "metadata": {
    "metadata": {}
   },
   "outputs": [
    {
     "data": {
      "text/plain": [
       "'$ \\\\mathbf{slope\\\\sim 10^{-5}}$ '"
      ]
     },
     "execution_count": 9,
     "metadata": {},
     "output_type": "execute_result"
    }
   ],
   "source": [
    "model_label = r'$ \\mathbf{slope\\sim 10^{-5}}$ '\n",
    "model_label"
   ]
  },
  {
   "cell_type": "code",
   "execution_count": 10,
   "metadata": {
    "metadata": {}
   },
   "outputs": [
    {
     "data": {
      "text/plain": [
       "54.082474244481666"
      ]
     },
     "execution_count": 10,
     "metadata": {},
     "output_type": "execute_result"
    }
   ],
   "source": [
    "model.intercept_"
   ]
  },
  {
   "cell_type": "code",
   "execution_count": 11,
   "metadata": {
    "metadata": {}
   },
   "outputs": [
    {
     "data": {
      "text/plain": [
       "array([8.12821139e-05])"
      ]
     },
     "execution_count": 11,
     "metadata": {},
     "output_type": "execute_result"
    }
   ],
   "source": [
    "model.coef_"
   ]
  },
  {
   "cell_type": "code",
   "execution_count": 16,
   "metadata": {
    "metadata": {}
   },
   "outputs": [
    {
     "data": {
      "image/png": "[encoded data removed]",
      "text/plain": [
       "<Figure size 400x400 with 1 Axes>"
      ]
     },
     "metadata": {},
     "output_type": "display_data"
    }
   ],
   "source": [
    "fig, ax = plt.subplots( figsize = (4,4))\n",
    "\n",
    "ax.errorbar(sizes,eta,yerr=std, fmt='o',capsize=2,elinewidth=0.5)\n",
    "ax.plot(x,predicted,'--',c='r')\n",
    "\n",
    "ax.set_ylim(45,60)\n",
    "\n",
    "ax.xaxis.set_major_locator(plt.MultipleLocator(10))\n",
    "ax.xaxis.set_minor_locator(plt.NullLocator())\n",
    "ax.xaxis.set_minor_formatter(plt.NullFormatter())\n",
    "\n",
    "\n",
    "ax.yaxis.set_major_locator(plt.MultipleLocator(5))\n",
    "ax.yaxis.set_minor_locator(plt.NullLocator())\n",
    "ax.yaxis.set_minor_formatter(plt.NullFormatter())\n",
    "\n",
    "ax.margins(0.04,0)\n",
    "\n",
    "ax.set_xlabel('Size $(n\\\\times n)$', fontsize=20)\n",
    "ax.set_ylabel(' $\\\\Delta E / (Nk_BT)$', fontsize=20)\n",
    "\n",
    "ax.tick_params(axis='both', which='major', labelsize=15)\n",
    "fig.text(0.55,0.75,model_label,c='r',fontsize=15,weight='bold')\n",
    "\n",
    "ax.minorticks_on()\n",
    "plt.show()\n",
    "\n",
    "\n",
    "fig.savefig(os.path.join(data_path,'figs/fig4c.png'),dpi=300,bbox_inches='tight')\n",
    "fig.savefig(os.path.join(data_path,'figs/fig4c.pdf'),bbox_inches='tight')"
   ]
  }
 ],
 "metadata": {
  "kernelspec": {
   "display_name": "Python 3",
   "language": "python",
   "name": "python3"
  },
  "language_info": {
   "codemirror_mode": {
    "name": "ipython",
    "version": 3
   },
   "file_extension": ".py",
   "mimetype": "text/x-python",
   "name": "python",
   "nbconvert_exporter": "python",
   "pygments_lexer": "ipython3",
   "version": "3.12.3"
  }
 },
 "nbformat": 4,
 "nbformat_minor": 2
}
