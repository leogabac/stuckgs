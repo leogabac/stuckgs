{
 "cells": [
  {
   "cell_type": "markdown",
   "metadata": {},
   "source": [
    "# Figure 4b\n",
    "\n",
    "Energy as a function of time."
   ]
  },
  {
   "cell_type": "code",
   "execution_count": 1,
   "metadata": {},
   "outputs": [],
   "source": [
    "import os\n",
    "import sys\n",
    "\n",
    "import numpy as np\n",
    "import pandas as pd\n",
    "\n",
    "from tqdm import tqdm\n",
    "from IPython.display import clear_output\n",
    "\n",
    "import matplotlib.pyplot as plt\n",
    "\n",
    "sys.path.insert(0, '../../icenumerics/')\n",
    "sys.path.insert(0, './auxnumerics/')\n",
    "import icenumerics as ice\n",
    "\n",
    "from numba import jit\n",
    "import auxiliary as aux\n",
    "import montecarlo_tools as mc\n",
    "import chirality_tools as chir\n",
    "import energy\n",
    "from parameters import params\n",
    "ureg = ice.ureg\n",
    "\n",
    "%reload_ext autoreload\n",
    "%autoreload 2\n",
    "\n",
    "idx = pd.IndexSlice"
   ]
  },
  {
   "cell_type": "code",
   "execution_count": 2,
   "metadata": {},
   "outputs": [],
   "source": [
    "plt.rcParams.update({\n",
    "    \"pgf.texsystem\": \"pdflatex\",\n",
    "    'font.family': 'serif',\n",
    "    'text.usetex': True,\n",
    "    'pgf.rcfonts': False,\n",
    "})"
   ]
  },
  {
   "cell_type": "markdown",
   "metadata": {},
   "source": [
    "## Visualization"
   ]
  },
  {
   "cell_type": "code",
   "execution_count": 3,
   "metadata": {},
   "outputs": [],
   "source": [
    "sim_path = '../data/sims/'\n",
    "energies = pd.read_csv(os.path.join(sim_path,'energiestime.csv'), index_col=['realization','frame'])\n",
    "energies_gs = pd.read_csv(os.path.join(sim_path,'gs30_energy.csv'), index_col=['t'])"
   ]
  },
  {
   "cell_type": "code",
   "execution_count": 4,
   "metadata": {},
   "outputs": [],
   "source": [
    "frames = energies.index.get_level_values('frame').unique().to_list()\n",
    "realizations = energies.index.get_level_values('realization').unique().to_list()\n",
    "time = np.array(frames) / params['framespersec'].magnitude\n",
    "field = 10/300 * time\n",
    "enp = energies['energy'].to_numpy().reshape((len(realizations),len(frames)))\n",
    "eav = enp.mean(axis=0)\n"
   ]
  },
  {
   "cell_type": "code",
   "execution_count": null,
   "metadata": {},
   "outputs": [],
   "source": [
    "gs = pd.read_csv('../data/states/af4/30.csv', index_col='id')\n",
    "gs_energies = []\n",
    "for cfield in tqdm(field):\n",
    "    ufield = cfield*ureg.mT\n",
    "    dip_moment = np.pi * (2*params['particle_radius'])**3 *params['particle_susceptibility']*ufield/6/params['mu0']\n",
    "    magic_number =  - (params['mu0']*dip_moment**2/4/np.pi).to(ureg.pN * ureg.nm * ureg.um**3).magnitude\n",
    "    L  = 30 * params['lattice_constant'].magnitude\n",
    "    sel_particles = aux.get_positions_from_ctrj(gs).to_numpy()\n",
    "    gs_energy = energy.calculate_energy(magic_number,L,sel_particles)\n",
    "    gs_energies.append(gs_energy)"
   ]
  },
  {
   "cell_type": "code",
   "execution_count": 5,
   "metadata": {},
   "outputs": [],
   "source": [
    "energies_gs = pd.read_csv('../data/sims/gs30_energy.csv',index_col=0)\n",
    "dE = eav - energies_gs['energy'][:301].to_numpy()\n",
    "eta = dE/params['size']**2/params['kbT'].magnitude"
   ]
  },
  {
   "cell_type": "code",
   "execution_count": 6,
   "metadata": {},
   "outputs": [
    {
     "data": {
      "image/png": "[encoded data removed]",
      "text/plain": [
       "<Figure size 400x400 with 1 Axes>"
      ]
     },
     "metadata": {},
     "output_type": "display_data"
    }
   ],
   "source": [
    "fig, ax = plt.subplots( figsize = (4,4))\n",
    "\n",
    "ax.plot(field,eta)\n",
    "ax.set_xlabel('B [mT]', fontsize=15)\n",
    "ax.set_ylabel(r'$\\Delta E/ (Nk_BT)$', fontsize=15)\n",
    "ax.tick_params(axis='both', which='major', labelsize=15)\n",
    "ax.set_xlim(0,10)\n",
    "ax.set_ylim(0,np.max(eta))\n",
    "\n",
    "ax.grid()\n",
    "ax.margins(0.05,0.05)\n",
    "#ax.set_ylim(0,dEav.max())\n",
    "plt.show()\n",
    "\n",
    "\n",
    "fig.savefig('../data/figs/fig4b.png', dpi=300,bbox_inches='tight')\n",
    "fig.savefig('../data/figs/fig4b.pdf')\n"
   ]
  }
 ],
 "metadata": {
  "kernelspec": {
   "display_name": "Python 3",
   "language": "python",
   "name": "python3"
  },
  "language_info": {
   "codemirror_mode": {
    "name": "ipython",
    "version": 3
   },
   "file_extension": ".py",
   "mimetype": "text/x-python",
   "name": "python",
   "nbconvert_exporter": "python",
   "pygments_lexer": "ipython3",
   "version": "3.8.10"
  }
 },
 "nbformat": 4,
 "nbformat_minor": 2
}
