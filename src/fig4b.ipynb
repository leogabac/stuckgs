{
 "cells": [
  {
   "cell_type": "markdown",
   "metadata": {},
   "source": [
    "# Figure 4b\n",
    "\n",
    "Energy as a function of time."
   ]
  },
  {
   "cell_type": "code",
   "execution_count": 22,
   "metadata": {
    "metadata": {}
   },
   "outputs": [],
   "source": [
    "import os\n",
    "import sys\n",
    "\n",
    "import numpy as np\n",
    "import pandas as pd\n",
    "\n",
    "from tqdm import tqdm\n",
    "from IPython.display import clear_output\n",
    "\n",
    "import matplotlib.pyplot as plt\n",
    "\n",
    "sys.path.insert(0, '../../icenumerics/')\n",
    "sys.path.insert(0, './auxnumerics/')\n",
    "import icenumerics as ice\n",
    "\n",
    "from numba import jit\n",
    "import auxiliary as aux\n",
    "import montecarlo_tools as mc\n",
    "import chirality_tools as chir\n",
    "import energy\n",
    "from parameters import params\n",
    "ureg = ice.ureg\n",
    "\n",
    "%reload_ext autoreload\n",
    "%autoreload 2\n",
    "\n",
    "idx = pd.IndexSlice"
   ]
  },
  {
   "cell_type": "code",
   "execution_count": 23,
   "metadata": {
    "metadata": {}
   },
   "outputs": [],
   "source": [
    "plt.rcParams.update({\n",
    "    \"pgf.texsystem\": \"pdflatex\",\n",
    "    'font.family': 'serif',\n",
    "    'text.usetex': True,\n",
    "    'pgf.rcfonts': False,\n",
    "})"
   ]
  },
  {
   "cell_type": "markdown",
   "metadata": {},
   "source": [
    "## Visualization"
   ]
  },
  {
   "cell_type": "code",
   "execution_count": 24,
   "metadata": {
    "metadata": {}
   },
   "outputs": [],
   "source": [
    "sim_path = '../data/sims/'\n",
    "data_path = '/media/eru/ina/stuckgs/data/'\n",
    "energies = pd.read_csv(os.path.join(sim_path,'energiestime.csv'), index_col=['realization','frame'])\n",
    "energies_gs = pd.read_csv(os.path.join(sim_path,'gs30_energy.csv'), index_col=['t'])"
   ]
  },
  {
   "cell_type": "code",
   "execution_count": 25,
   "metadata": {
    "metadata": {}
   },
   "outputs": [],
   "source": [
    "frames = energies.index.get_level_values('frame').unique().to_list()\n",
    "realizations = energies.index.get_level_values('realization').unique().to_list()\n",
    "time = np.array(frames) / params['framespersec'].magnitude\n",
    "field = 10/300 * time\n",
    "enp = energies['energy'].to_numpy().reshape((len(realizations),len(frames)))\n",
    "eav = enp.mean(axis=0)\n",
    "estd = enp.std(axis=0)"
   ]
  },
  {
   "cell_type": "code",
   "execution_count": 5,
   "metadata": {
    "metadata": {}
   },
   "outputs": [
    {
     "name": "stderr",
     "output_type": "stream",
     "text": [
      "100%|██████████| 301/301 [03:01<00:00,  1.66it/s]\n"
     ]
    }
   ],
   "source": [
    "gs = pd.read_csv('../data/states/af4/30.csv', index_col='id')\n",
    "gs_energies = []\n",
    "for cfield in tqdm(field):\n",
    "    ufield = cfield*ureg.mT\n",
    "    dip_moment = np.pi * (2*params['particle_radius'])**3 *params['particle_susceptibility']*ufield/6/params['mu0']\n",
    "    magic_number =  - (params['mu0']*dip_moment**2/4/np.pi).to(ureg.pN * ureg.nm * ureg.um**3).magnitude\n",
    "    L  = 30 * params['lattice_constant'].magnitude\n",
    "    sel_particles = aux.get_positions_from_ctrj(gs).to_numpy()\n",
    "    gs_energy = energy.calculate_energy(magic_number,L,sel_particles)\n",
    "    gs_energies.append(gs_energy)"
   ]
  },
  {
   "cell_type": "code",
   "execution_count": 42,
   "metadata": {
    "metadata": {}
   },
   "outputs": [],
   "source": [
    "energies_gs = pd.read_csv('../data/sims/gs30_energy.csv',index_col=0)\n",
    "dE = enp - energies_gs['energy'][:301].to_numpy()\n",
    "eta = dE/params['size']**2/params['kbT'].magnitude\n",
    "eta_mean = eta.mean(axis=0)\n",
    "eta_std = eta.std(axis=0)"
   ]
  },
  {
   "cell_type": "code",
   "execution_count": 52,
   "metadata": {
    "metadata": {}
   },
   "outputs": [
    {
     "data": {
      "text/plain": [
       "array([ 0.        ,  1.19473214,  2.82887055,  4.2403739 ,  6.39853839,\n",
       "        9.16207262, 12.40616428, 16.2253153 , 20.42917236, 24.99847707,\n",
       "       29.84599303, 34.9316503 , 40.01735222, 44.9277357 , 49.64013675,\n",
       "       53.74524509])"
      ]
     },
     "execution_count": 52,
     "metadata": {},
     "output_type": "execute_result"
    }
   ],
   "source": [
    "eta_mean[::20]"
   ]
  },
  {
   "cell_type": "code",
   "execution_count": 58,
   "metadata": {
    "metadata": {}
   },
   "outputs": [
    {
     "data": {
      "text/plain": [
       "61"
      ]
     },
     "execution_count": 58,
     "metadata": {},
     "output_type": "execute_result"
    }
   ],
   "source": [
    "len(eta_mean[::5])"
   ]
  },
  {
   "cell_type": "code",
   "execution_count": 79,
   "metadata": {
    "metadata": {}
   },
   "outputs": [
    {
     "data": {
      "image/png": "[encoded data removed]",
      "text/plain": [
       "<Figure size 400x400 with 1 Axes>"
      ]
     },
     "metadata": {},
     "output_type": "display_data"
    }
   ],
   "source": [
    "fig, ax = plt.subplots(figsize=(4,4))\n",
    "ax.plot(field,eta_mean,'--',linewidth=1.5, color='k')\n",
    "ax.fill_between(field,eta_mean-eta_std,eta_mean+eta_std, alpha=1,edgecolor='#FF2D00', facecolor='#FF9882',\n",
    "    linewidth=0)\n",
    "\n",
    "ax.set_xlim(0,10)\n",
    "ax.set_ylim(0,np.max(eta))\n",
    "\n",
    "ax.xaxis.set_major_locator(plt.MultipleLocator(10))\n",
    "ax.xaxis.set_minor_locator(plt.NullLocator())\n",
    "ax.xaxis.set_minor_formatter(plt.NullFormatter())\n",
    "\n",
    "\n",
    "ax.yaxis.set_major_locator(plt.MultipleLocator(25))\n",
    "ax.yaxis.set_minor_locator(plt.NullLocator())\n",
    "ax.yaxis.set_minor_formatter(plt.NullFormatter())\n",
    "\n",
    "\n",
    "ax.set_xlabel('B [mT]', fontsize=20)\n",
    "ax.set_ylabel(r'$\\Delta E/ (Nk_BT)$', fontsize=20)\n",
    "\n",
    "ax.tick_params(axis='both', which='major', labelsize=15)\n",
    "ax.minorticks_on()\n",
    "\n",
    "plt.show()\n",
    "\n",
    "fig.savefig(os.path.join(data_path,'figs/fig4b.png'),dpi=300,bbox_inches='tight')\n",
    "fig.savefig(os.path.join(data_path,'figs/fig4b.pdf'),bbox_inches='tight')"
   ]
  }
 ],
 "metadata": {
  "kernelspec": {
   "display_name": "Python 3",
   "language": "python",
   "name": "python3"
  },
  "language_info": {
   "codemirror_mode": {
    "name": "ipython",
    "version": 3
   },
   "file_extension": ".py",
   "mimetype": "text/x-python",
   "name": "python",
   "nbconvert_exporter": "python",
   "pygments_lexer": "ipython3",
   "version": "3.12.3"
  }
 },
 "nbformat": 4,
 "nbformat_minor": 2
}
