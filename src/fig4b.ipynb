{
 "cells": [
  {
   "cell_type": "markdown",
   "metadata": {},
   "source": [
    "# Figure 4b\n",
    "\n",
    "Energy as a function of time."
   ]
  },
  {
   "cell_type": "code",
   "execution_count": 20,
   "metadata": {},
   "outputs": [
    {
     "name": "stderr",
     "output_type": "stream",
     "text": [
      "/mnt/c/Users/leoga/Documents/GitHub/stuckgs/src/./auxnumerics/energy.py:23: NumbaDeprecationWarning: \u001b[1mThe 'nopython' keyword argument was not supplied to the 'numba.jit' decorator. The implicit default value for this argument is currently False, but it will be changed to True in Numba 0.59.0. See https://numba.readthedocs.io/en/stable/reference/deprecation.html#deprecation-of-object-mode-fall-back-behaviour-when-using-jit for details.\u001b[0m\n",
      "  def get_min_from_domain(f,domain):\n",
      "/mnt/c/Users/leoga/Documents/GitHub/stuckgs/src/./auxnumerics/energy.py:38: NumbaDeprecationWarning: \u001b[1mThe 'nopython' keyword argument was not supplied to the 'numba.jit' decorator. The implicit default value for this argument is currently False, but it will be changed to True in Numba 0.59.0. See https://numba.readthedocs.io/en/stable/reference/deprecation.html#deprecation-of-object-mode-fall-back-behaviour-when-using-jit for details.\u001b[0m\n",
      "  def get_pbc_distance(L,xi,xj):\n",
      "/mnt/c/Users/leoga/Documents/GitHub/stuckgs/src/./auxnumerics/energy.py:58: NumbaDeprecationWarning: \u001b[1mThe 'nopython' keyword argument was not supplied to the 'numba.jit' decorator. The implicit default value for this argument is currently False, but it will be changed to True in Numba 0.59.0. See https://numba.readthedocs.io/en/stable/reference/deprecation.html#deprecation-of-object-mode-fall-back-behaviour-when-using-jit for details.\u001b[0m\n",
      "  def dipole_pair_energy(magic_number,L,xi,xj,Bhat = np.array([1,0,0])):\n",
      "/mnt/c/Users/leoga/Documents/GitHub/stuckgs/src/./auxnumerics/energy.py:82: NumbaDeprecationWarning: \u001b[1mThe 'nopython' keyword argument was not supplied to the 'numba.jit' decorator. The implicit default value for this argument is currently False, but it will be changed to True in Numba 0.59.0. See https://numba.readthedocs.io/en/stable/reference/deprecation.html#deprecation-of-object-mode-fall-back-behaviour-when-using-jit for details.\u001b[0m\n",
      "  def calculate_energy(magic_number,L,sel_particles):\n",
      "/mnt/c/Users/leoga/Documents/GitHub/stuckgs/src/./auxnumerics/energy.py:23: NumbaDeprecationWarning: \u001b[1mThe 'nopython' keyword argument was not supplied to the 'numba.jit' decorator. The implicit default value for this argument is currently False, but it will be changed to True in Numba 0.59.0. See https://numba.readthedocs.io/en/stable/reference/deprecation.html#deprecation-of-object-mode-fall-back-behaviour-when-using-jit for details.\u001b[0m\n",
      "  def get_min_from_domain(f,domain):\n",
      "/mnt/c/Users/leoga/Documents/GitHub/stuckgs/src/./auxnumerics/energy.py:38: NumbaDeprecationWarning: \u001b[1mThe 'nopython' keyword argument was not supplied to the 'numba.jit' decorator. The implicit default value for this argument is currently False, but it will be changed to True in Numba 0.59.0. See https://numba.readthedocs.io/en/stable/reference/deprecation.html#deprecation-of-object-mode-fall-back-behaviour-when-using-jit for details.\u001b[0m\n",
      "  def get_pbc_distance(L,xi,xj):\n",
      "/mnt/c/Users/leoga/Documents/GitHub/stuckgs/src/./auxnumerics/energy.py:58: NumbaDeprecationWarning: \u001b[1mThe 'nopython' keyword argument was not supplied to the 'numba.jit' decorator. The implicit default value for this argument is currently False, but it will be changed to True in Numba 0.59.0. See https://numba.readthedocs.io/en/stable/reference/deprecation.html#deprecation-of-object-mode-fall-back-behaviour-when-using-jit for details.\u001b[0m\n",
      "  def dipole_pair_energy(magic_number,L,xi,xj,Bhat = np.array([1,0,0])):\n",
      "/mnt/c/Users/leoga/Documents/GitHub/stuckgs/src/./auxnumerics/energy.py:82: NumbaDeprecationWarning: \u001b[1mThe 'nopython' keyword argument was not supplied to the 'numba.jit' decorator. The implicit default value for this argument is currently False, but it will be changed to True in Numba 0.59.0. See https://numba.readthedocs.io/en/stable/reference/deprecation.html#deprecation-of-object-mode-fall-back-behaviour-when-using-jit for details.\u001b[0m\n",
      "  def calculate_energy(magic_number,L,sel_particles):\n"
     ]
    }
   ],
   "source": [
    "import os\n",
    "import sys\n",
    "\n",
    "import numpy as np\n",
    "import pandas as pd\n",
    "\n",
    "from tqdm import tqdm\n",
    "from IPython.display import clear_output\n",
    "\n",
    "import matplotlib as mpl \n",
    "import matplotlib.pyplot as plt\n",
    "\n",
    "sys.path.insert(0, '../../icenumerics/')\n",
    "sys.path.insert(0, './auxnumerics/')\n",
    "import icenumerics as ice\n",
    "\n",
    "from numba import jit\n",
    "import auxiliary as aux\n",
    "import montecarlo_tools as mc\n",
    "import chirality_tools as chir\n",
    "import energy as eg\n",
    "ureg = ice.ureg\n",
    "\n",
    "%reload_ext autoreload\n",
    "%autoreload 2\n",
    "\n",
    "idx = pd.IndexSlice"
   ]
  },
  {
   "cell_type": "code",
   "execution_count": 16,
   "metadata": {},
   "outputs": [],
   "source": [
    "plt.rcParams.update({\n",
    "    \"pgf.texsystem\": \"pdflatex\",\n",
    "    'font.family': 'serif',\n",
    "    'text.usetex': True,\n",
    "    'pgf.rcfonts': False,\n",
    "})"
   ]
  },
  {
   "cell_type": "markdown",
   "metadata": {},
   "source": [
    "# Parameters"
   ]
  },
  {
   "cell_type": "code",
   "execution_count": 17,
   "metadata": {},
   "outputs": [],
   "source": [
    "quench_time = 300*ureg.s\n",
    "evolution_time = 60*ureg.s\n",
    "total_time = quench_time + evolution_time\n",
    "#sim_path = '/mnt/e/stuckgs/data/sims'\n",
    "sim_path = '../data/sims/'\n",
    "\n",
    "params = {\n",
    "    \"particle_radius\":1.4*ureg.um,\n",
    "    \"particle_susceptibility\":0.4,\n",
    "    \"particle_diffusion\":0.14*ureg.um**2/ureg.s,\n",
    "    \"particle_temperature\":300*ureg.K,\n",
    "    \"particle_density\":1000*ureg.kg/ureg.m**3,\n",
    "\n",
    "    \"trap_sep\":3*ureg.um,\n",
    "    \"trap_height\":8*ureg.pN*ureg.nm,\n",
    "    \"trap_stiffness\":100e-3*ureg.pN/ureg.nm,\n",
    "    \"height_spread\":0,\n",
    "    \"susceptibility_spread\":0,\n",
    "    \"isperiodic\":True,\n",
    "\n",
    "    \"total_time\":total_time,\n",
    "    \"framespersec\":20*ureg.Hz,\n",
    "    \"dt\":0.1*ureg.ms,\n",
    "    \"max_field\":10*ureg.mT,\n",
    "    \"sim_temp\":300*ureg.K,\n",
    "    \"sim_dipole_cutoff\":40*ureg.um,\n",
    "}\n",
    "\n",
    "params[\"lattice_constant\"] = params[\"trap_sep\"]+(2*params[\"particle_radius\"]+1*ureg.um)*np.sqrt(2)\n",
    "params['size'] = 30\n",
    "\n",
    "params['mu0'] = (4*np.pi)*1e-7 * ureg.H/ureg.m\n",
    "params['m'] = np.pi * (2*params['particle_radius'])**3 *params['particle_susceptibility']*params['max_field']/6/params['mu0']\n",
    "params['kb'] = 1.380649e-23 * ureg.J / ureg.K\n",
    "params['kbT'] = (params['kb'] * params['sim_temp']).to(ureg.nm * ureg.pN)\n",
    "params['freedom'] = - (params['mu0']*params['m']**2/4/np.pi).to(ureg.pN * ureg.nm * ureg.um**3).magnitude"
   ]
  },
  {
   "cell_type": "code",
   "execution_count": 4,
   "metadata": {},
   "outputs": [
    {
     "data": {
      "text/html": [
       "<div>\n",
       "<style scoped>\n",
       "    .dataframe tbody tr th:only-of-type {\n",
       "        vertical-align: middle;\n",
       "    }\n",
       "\n",
       "    .dataframe tbody tr th {\n",
       "        vertical-align: top;\n",
       "    }\n",
       "\n",
       "    .dataframe thead th {\n",
       "        text-align: right;\n",
       "    }\n",
       "</style>\n",
       "<table border=\"1\" class=\"dataframe\">\n",
       "  <thead>\n",
       "    <tr style=\"text-align: right;\">\n",
       "      <th></th>\n",
       "      <th></th>\n",
       "      <th>type</th>\n",
       "      <th>x</th>\n",
       "      <th>y</th>\n",
       "      <th>z</th>\n",
       "      <th>mux</th>\n",
       "      <th>muy</th>\n",
       "      <th>muz</th>\n",
       "      <th>t</th>\n",
       "    </tr>\n",
       "    <tr>\n",
       "      <th>frame</th>\n",
       "      <th>id</th>\n",
       "      <th></th>\n",
       "      <th></th>\n",
       "      <th></th>\n",
       "      <th></th>\n",
       "      <th></th>\n",
       "      <th></th>\n",
       "      <th></th>\n",
       "      <th></th>\n",
       "    </tr>\n",
       "  </thead>\n",
       "  <tbody>\n",
       "    <tr>\n",
       "      <th rowspan=\"5\" valign=\"top\">0</th>\n",
       "      <th>1</th>\n",
       "      <td>1</td>\n",
       "      <td>2.68701</td>\n",
       "      <td>0.000</td>\n",
       "      <td>0.0</td>\n",
       "      <td>0.000000e+00</td>\n",
       "      <td>0.0</td>\n",
       "      <td>0.0</td>\n",
       "      <td>0.00</td>\n",
       "    </tr>\n",
       "    <tr>\n",
       "      <th>2</th>\n",
       "      <td>1</td>\n",
       "      <td>11.06100</td>\n",
       "      <td>0.000</td>\n",
       "      <td>0.0</td>\n",
       "      <td>0.000000e+00</td>\n",
       "      <td>0.0</td>\n",
       "      <td>0.0</td>\n",
       "      <td>0.00</td>\n",
       "    </tr>\n",
       "    <tr>\n",
       "      <th>3</th>\n",
       "      <td>1</td>\n",
       "      <td>22.43500</td>\n",
       "      <td>0.000</td>\n",
       "      <td>0.0</td>\n",
       "      <td>0.000000e+00</td>\n",
       "      <td>0.0</td>\n",
       "      <td>0.0</td>\n",
       "      <td>0.00</td>\n",
       "    </tr>\n",
       "    <tr>\n",
       "      <th>4</th>\n",
       "      <td>1</td>\n",
       "      <td>30.80900</td>\n",
       "      <td>0.000</td>\n",
       "      <td>0.0</td>\n",
       "      <td>0.000000e+00</td>\n",
       "      <td>0.0</td>\n",
       "      <td>0.0</td>\n",
       "      <td>0.00</td>\n",
       "    </tr>\n",
       "    <tr>\n",
       "      <th>5</th>\n",
       "      <td>1</td>\n",
       "      <td>39.18310</td>\n",
       "      <td>0.000</td>\n",
       "      <td>0.0</td>\n",
       "      <td>0.000000e+00</td>\n",
       "      <td>0.0</td>\n",
       "      <td>0.0</td>\n",
       "      <td>0.00</td>\n",
       "    </tr>\n",
       "    <tr>\n",
       "      <th>...</th>\n",
       "      <th>...</th>\n",
       "      <td>...</td>\n",
       "      <td>...</td>\n",
       "      <td>...</td>\n",
       "      <td>...</td>\n",
       "      <td>...</td>\n",
       "      <td>...</td>\n",
       "      <td>...</td>\n",
       "      <td>...</td>\n",
       "    </tr>\n",
       "    <tr>\n",
       "      <th rowspan=\"5\" valign=\"top\">8399</th>\n",
       "      <th>3596</th>\n",
       "      <td>2</td>\n",
       "      <td>209.35000</td>\n",
       "      <td>247.033</td>\n",
       "      <td>0.0</td>\n",
       "      <td>-1.836970e-16</td>\n",
       "      <td>-3.0</td>\n",
       "      <td>-0.0</td>\n",
       "      <td>419.95</td>\n",
       "    </tr>\n",
       "    <tr>\n",
       "      <th>3597</th>\n",
       "      <td>2</td>\n",
       "      <td>217.72400</td>\n",
       "      <td>247.033</td>\n",
       "      <td>0.0</td>\n",
       "      <td>1.836970e-16</td>\n",
       "      <td>3.0</td>\n",
       "      <td>0.0</td>\n",
       "      <td>419.95</td>\n",
       "    </tr>\n",
       "    <tr>\n",
       "      <th>3598</th>\n",
       "      <td>2</td>\n",
       "      <td>226.09800</td>\n",
       "      <td>247.033</td>\n",
       "      <td>0.0</td>\n",
       "      <td>1.836970e-16</td>\n",
       "      <td>3.0</td>\n",
       "      <td>0.0</td>\n",
       "      <td>419.95</td>\n",
       "    </tr>\n",
       "    <tr>\n",
       "      <th>3599</th>\n",
       "      <td>2</td>\n",
       "      <td>234.47200</td>\n",
       "      <td>247.033</td>\n",
       "      <td>0.0</td>\n",
       "      <td>-1.836970e-16</td>\n",
       "      <td>-3.0</td>\n",
       "      <td>-0.0</td>\n",
       "      <td>419.95</td>\n",
       "    </tr>\n",
       "    <tr>\n",
       "      <th>3600</th>\n",
       "      <td>2</td>\n",
       "      <td>242.84600</td>\n",
       "      <td>247.033</td>\n",
       "      <td>0.0</td>\n",
       "      <td>-1.836970e-16</td>\n",
       "      <td>-3.0</td>\n",
       "      <td>-0.0</td>\n",
       "      <td>419.95</td>\n",
       "    </tr>\n",
       "  </tbody>\n",
       "</table>\n",
       "<p>30240000 rows × 8 columns</p>\n",
       "</div>"
      ],
      "text/plain": [
       "            type          x        y    z           mux  muy  muz       t\n",
       "frame id                                                                 \n",
       "0     1        1    2.68701    0.000  0.0  0.000000e+00  0.0  0.0    0.00\n",
       "      2        1   11.06100    0.000  0.0  0.000000e+00  0.0  0.0    0.00\n",
       "      3        1   22.43500    0.000  0.0  0.000000e+00  0.0  0.0    0.00\n",
       "      4        1   30.80900    0.000  0.0  0.000000e+00  0.0  0.0    0.00\n",
       "      5        1   39.18310    0.000  0.0  0.000000e+00  0.0  0.0    0.00\n",
       "...          ...        ...      ...  ...           ...  ...  ...     ...\n",
       "8399  3596     2  209.35000  247.033  0.0 -1.836970e-16 -3.0 -0.0  419.95\n",
       "      3597     2  217.72400  247.033  0.0  1.836970e-16  3.0  0.0  419.95\n",
       "      3598     2  226.09800  247.033  0.0  1.836970e-16  3.0  0.0  419.95\n",
       "      3599     2  234.47200  247.033  0.0 -1.836970e-16 -3.0 -0.0  419.95\n",
       "      3600     2  242.84600  247.033  0.0 -1.836970e-16 -3.0 -0.0  419.95\n",
       "\n",
       "[30240000 rows x 8 columns]"
      ]
     },
     "execution_count": 4,
     "metadata": {},
     "output_type": "execute_result"
    }
   ],
   "source": [
    "realization = 1\n",
    "frame = 0\n",
    "trj = pd.read_csv(os.path.join(sim_path,'30','trj',f'trj{realization}.csv'), index_col=['frame','id'])\n",
    "trj"
   ]
  },
  {
   "cell_type": "code",
   "execution_count": 42,
   "metadata": {},
   "outputs": [
    {
     "data": {
      "text/plain": [
       "[-3234141.59659486]"
      ]
     },
     "execution_count": 42,
     "metadata": {},
     "output_type": "execute_result"
    }
   ],
   "source": [
    "frames = trj.index.get_level_values('frame').unique().to_list()\n",
    "sframes = frames[:1]\n",
    "energy = [aux.calculate_energy(params,aux.get_coordinates_at_frame(trj,frame)) for frame in sframes]\n",
    "energy"
   ]
  },
  {
   "cell_type": "code",
   "execution_count": 18,
   "metadata": {},
   "outputs": [],
   "source": [
    "L = params['size']*params['lattice_constant'].magnitude\n",
    "magic_number = params['freedom']"
   ]
  },
  {
   "cell_type": "code",
   "execution_count": null,
   "metadata": {},
   "outputs": [],
   "source": [
    "eg.calculate_energy(magic_number,L,eg.get_coordinates_at_frame(trj,0))"
   ]
  },
  {
   "cell_type": "code",
   "execution_count": 50,
   "metadata": {},
   "outputs": [
    {
     "data": {
      "text/plain": [
       "-3234141.59659486"
      ]
     },
     "execution_count": 50,
     "metadata": {},
     "output_type": "execute_result"
    }
   ],
   "source": [
    "sel_particles = aux.get_coordinates_at_frame(trj,0).to_numpy()\n",
    "eg.precompiled_calculate_energy(magic_number,L,sel_particles)"
   ]
  }
 ],
 "metadata": {
  "kernelspec": {
   "display_name": "Python 3",
   "language": "python",
   "name": "python3"
  },
  "language_info": {
   "codemirror_mode": {
    "name": "ipython",
    "version": 3
   },
   "file_extension": ".py",
   "mimetype": "text/x-python",
   "name": "python",
   "nbconvert_exporter": "python",
   "pygments_lexer": "ipython3",
   "version": "3.8.10"
  }
 },
 "nbformat": 4,
 "nbformat_minor": 2
}
